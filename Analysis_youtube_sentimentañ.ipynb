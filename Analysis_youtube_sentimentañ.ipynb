{
 "cells": [
  {
   "cell_type": "code",
   "execution_count": 1,
   "metadata": {},
   "outputs": [
    {
     "ename": "ModuleNotFoundError",
     "evalue": "No module named 'pandas'",
     "output_type": "error",
     "traceback": [
      "\u001b[0;31m---------------------------------------------------------------------------\u001b[0m",
      "\u001b[0;31mModuleNotFoundError\u001b[0m                       Traceback (most recent call last)",
      "Cell \u001b[0;32mIn [1], line 2\u001b[0m\n\u001b[1;32m      1\u001b[0m \u001b[38;5;28;01mimport\u001b[39;00m \u001b[38;5;21;01mrequests\u001b[39;00m\n\u001b[0;32m----> 2\u001b[0m \u001b[38;5;28;01mimport\u001b[39;00m \u001b[38;5;21;01mpandas\u001b[39;00m \u001b[38;5;28;01mas\u001b[39;00m \u001b[38;5;21;01mpd\u001b[39;00m\n\u001b[1;32m      3\u001b[0m \u001b[38;5;28;01mimport\u001b[39;00m \u001b[38;5;21;01mnumpy\u001b[39;00m \u001b[38;5;28;01mas\u001b[39;00m \u001b[38;5;21;01mnp\u001b[39;00m\n\u001b[1;32m      4\u001b[0m \u001b[38;5;28;01mimport\u001b[39;00m \u001b[38;5;21;01mos\u001b[39;00m\n",
      "\u001b[0;31mModuleNotFoundError\u001b[0m: No module named 'pandas'"
     ]
    }
   ],
   "source": [
    "import requests\n",
    "import pandas as pd\n",
    "import numpy as np\n",
    "import os\n",
    "import matplotlib\n",
    "import nltk\n",
    "import plotly.graph_objects as go\n",
    "from plotly.subplots import make_subplots\n",
    "import ast"
   ]
  },
  {
   "cell_type": "code",
   "execution_count": 2,
   "metadata": {},
   "outputs": [],
   "source": [
    "\"\"\" TIME SERIES WITH #VIDEOS, LIKES, COMMENTS \"\"\"\n",
    "\n",
    "class EDA_Analysis():\n",
    "\n",
    "    def __init__(self) -> None:\n",
    "        def data_read_csv(path, title):\n",
    "            video = path + \"/\" + title\n",
    "            df_ = pd.read_csv(video)\n",
    "\n",
    "            return df_\n",
    "\n",
    "        path = \"/Users/jesustellez/Desktop/aiDynamics/API Data extraction/Data\"\n",
    "        df_comments = data_read_csv(path, \"comments_eeuu.csv\")\n",
    "        self.df_comments = df_comments\n",
    "        df_videos = data_read_csv(path, \"videos_eeuu.csv\")\n",
    "        df_videos[\"Date\"] = df_videos[\"publishedAt\"].str.split(\"T\", expand=True)[0]\n",
    "        self.df_videos = df_videos\n",
    "        df_calendar = data_read_csv(path, \"calendar.csv\")\n",
    "        df_calendar[\"Week-Year\"] = df_calendar[\"Week\"].astype(str) + \"-\" + df_calendar[\"Year\"].astype(str)\n",
    "        self.df_calendar = df_calendar\n",
    "\n",
    "    def __returndata__(self):\n",
    "        return self.df_videos, self.df_calendar, self.df_comments\n",
    "    \n",
    "    def EDA_timely(self, period):\n",
    "\n",
    "        df_ts_analysis = self.df_videos.merge(\n",
    "            self.df_calendar[[\"Date\", \"Day\", \"Week\",\"Month\", \"Month-Year\", \"Week-Year\"]], \n",
    "            on=\"Date\", \n",
    "            how=\"left\")\n",
    "        \n",
    "        df_ts_analysis_wy = df_ts_analysis.groupby(period, as_index=False).agg({\"viewCount\":\"sum\", \"video_id\":\"count\",\"commentCount\":\"sum\"})\n",
    "        return df_ts_analysis_wy\n",
    "\n",
    "    def EDA_time_graph(self, period, fields, df_analysis):\n",
    "\n",
    "        fig = go.Figure()\n",
    "        for i in fields:\n",
    "            fig.add_trace(go.Scatter(x=df_analysis[period], y=df_analysis[i]))\n",
    "\n",
    "        fig.show()\n",
    "\n",
    "df_videos, df_calendar, df_comments = EDA_Analysis().__returndata__()\n"
   ]
  },
  {
   "cell_type": "code",
   "execution_count": null,
   "metadata": {},
   "outputs": [],
   "source": []
  }
 ],
 "metadata": {
  "kernelspec": {
   "display_name": "Python 3.10.6 64-bit",
   "language": "python",
   "name": "python3"
  },
  "language_info": {
   "codemirror_mode": {
    "name": "ipython",
    "version": 3
   },
   "file_extension": ".py",
   "mimetype": "text/x-python",
   "name": "python",
   "nbconvert_exporter": "python",
   "pygments_lexer": "ipython3",
   "version": "3.10.6"
  },
  "orig_nbformat": 4,
  "vscode": {
   "interpreter": {
    "hash": "aee8b7b246df8f9039afb4144a1f6fd8d2ca17a180786b69acc140d282b71a49"
   }
  }
 },
 "nbformat": 4,
 "nbformat_minor": 2
}
