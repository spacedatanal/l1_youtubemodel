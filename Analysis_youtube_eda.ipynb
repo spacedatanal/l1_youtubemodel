{
 "cells": [
  {
   "cell_type": "code",
   "execution_count": 1,
   "metadata": {},
   "outputs": [],
   "source": [
    "import requests\n",
    "import pandas as pd\n",
    "import numpy as np\n",
    "import os\n",
    "import matplotlib\n",
    "import nltk\n",
    "import plotly.graph_objects as go\n",
    "from plotly.subplots import make_subplots\n",
    "import ast"
   ]
  },
  {
   "cell_type": "code",
   "execution_count": 2,
   "metadata": {},
   "outputs": [
    {
     "data": {
      "text/plain": [
       "'\\nTHIS CODE IS FOR BETTER PLOTS\\n\\nfig = make_subplots(specs=[[{\"secondary_y\": True}]])\\n\\n#fig = go.Figure()\\nfig.add_trace(go.Scatter(x=df_ts_analysis[\"Week-Year\"], y=df_ts_analysis[\"viewCount\"]),secondary_y=False)\\nfig.add_trace(go.Scatter(x=df_ts_analysis[\"Week-Year\"], y=df_ts_analysis[\"video_id\"]), secondary_y=True)\\nfig.add_trace(go.Scatter(x=df_ts_analysis[\"Week-Year\"], y=df_ts_analysis[\"commentCount\"]),secondary_y=True)\\nfig.show()\\n\\n'"
      ]
     },
     "execution_count": 2,
     "metadata": {},
     "output_type": "execute_result"
    }
   ],
   "source": [
    "\"\"\" TIME SERIES WITH #VIDEOS, LIKES, COMMENTS \"\"\"\n",
    "\n",
    "class EDA_Analysis():\n",
    "\n",
    "    def __init__(self) -> None:\n",
    "        def data_read_csv(path, title):\n",
    "            video = path + \"/\" + title\n",
    "            df_ = pd.read_csv(video)\n",
    "\n",
    "            return df_\n",
    "\n",
    "        path = \"/Users/jesustellez/Desktop/aiDynamics/API Data extraction/Data\"\n",
    "        df_comments = data_read_csv(path, \"comments_eeuu.csv\")\n",
    "        self.df_comments = df_comments\n",
    "        df_videos = data_read_csv(path, \"videos_eeuu.csv\")\n",
    "        df_videos[\"Date\"] = df_videos[\"publishedAt\"].str.split(\"T\", expand=True)[0]\n",
    "        self.df_videos = df_videos\n",
    "        df_calendar = data_read_csv(path, \"calendar.csv\")\n",
    "        df_calendar[\"Week-Year\"] = df_calendar[\"Week\"].astype(str) + \"-\" + df_calendar[\"Year\"].astype(str)\n",
    "        self.df_calendar = df_calendar\n",
    "\n",
    "    def __returndata__(self):\n",
    "        return self.df_videos, self.df_calendar, self.df_comments\n",
    "    \n",
    "    def EDA_timely(self, period):\n",
    "\n",
    "        df_ts_analysis = self.df_videos.merge(\n",
    "            self.df_calendar[[\"Date\", \"Day\", \"Week\",\"Month\", \"Month-Year\", \"Week-Year\"]], \n",
    "            on=\"Date\", \n",
    "            how=\"left\")\n",
    "        \n",
    "        df_ts_analysis_wy = df_ts_analysis.groupby(period, as_index=False).agg({\"viewCount\":\"sum\", \"video_id\":\"count\",\"commentCount\":\"sum\"})\n",
    "        return df_ts_analysis_wy\n",
    "\n",
    "    def EDA_time_graph(self, period, fields, df_analysis):\n",
    "\n",
    "        fig = go.Figure()\n",
    "        for i in fields:\n",
    "            fig.add_trace(go.Scatter(x=df_analysis[period], y=df_analysis[i]))\n",
    "\n",
    "        fig.show()\n",
    "\n",
    "df_videos, df_calendar, df_comments = EDA_Analysis().__returndata__()\n",
    "\n",
    "#df_analysis = EDA_Analysis().EDA_timely(period =\"Day\")\n",
    "#EDA_Analysis().EDA_time_graph(\"Day\", [\"commentCount\"], df_analysis)\n",
    "\n",
    "\"\"\"\n",
    "THIS CODE IS FOR BETTER PLOTS\n",
    "\n",
    "fig = make_subplots(specs=[[{\"secondary_y\": True}]])\n",
    "\n",
    "#fig = go.Figure()\n",
    "fig.add_trace(go.Scatter(x=df_ts_analysis[\"Week-Year\"], y=df_ts_analysis[\"viewCount\"]),secondary_y=False)\n",
    "fig.add_trace(go.Scatter(x=df_ts_analysis[\"Week-Year\"], y=df_ts_analysis[\"video_id\"]), secondary_y=True)\n",
    "fig.add_trace(go.Scatter(x=df_ts_analysis[\"Week-Year\"], y=df_ts_analysis[\"commentCount\"]),secondary_y=True)\n",
    "fig.show()\n",
    "\n",
    "\"\"\"\n",
    "\n"
   ]
  },
  {
   "cell_type": "code",
   "execution_count": 3,
   "metadata": {},
   "outputs": [],
   "source": [
    "df_comments_eda = (\n",
    "    df_comments.groupby(\"author_name\", as_index=False)\n",
    "    .agg(\n",
    "        text_display = pd.NamedAgg(column='test_display', aggfunc='count'),\n",
    "        likes_sum = pd.NamedAgg(column='likes_count', aggfunc='sum'),\n",
    "        likes_max = pd.NamedAgg(column='likes_count', aggfunc='max'),\n",
    "        likes_min = pd.NamedAgg(column='likes_count', aggfunc='min')\n",
    "        )\n",
    ")\n",
    "df_comments_eda[\"mean_likes\"] = df_comments_eda[\"likes_sum\"]/df_comments_eda[\"text_display\"]\n"
   ]
  },
  {
   "cell_type": "code",
   "execution_count": 14,
   "metadata": {},
   "outputs": [
    {
     "data": {
      "application/vnd.plotly.v1+json": {
       "config": {
        "plotlyServerURL": "https://plot.ly"
       },
       "data": [
        {
         "type": "scatter",
         "x": [
          "Jesus Says"
         ],
         "y": [
          14.333333333333334
         ]
        },
        {
         "type": "scatter",
         "x": [
          "Jesus Says"
         ],
         "y": [
          25
         ]
        },
        {
         "type": "scatter",
         "x": [
          "Jesus Says"
         ],
         "y": [
          10
         ]
        }
       ],
       "layout": {
        "template": {
         "data": {
          "bar": [
           {
            "error_x": {
             "color": "#2a3f5f"
            },
            "error_y": {
             "color": "#2a3f5f"
            },
            "marker": {
             "line": {
              "color": "#E5ECF6",
              "width": 0.5
             },
             "pattern": {
              "fillmode": "overlay",
              "size": 10,
              "solidity": 0.2
             }
            },
            "type": "bar"
           }
          ],
          "barpolar": [
           {
            "marker": {
             "line": {
              "color": "#E5ECF6",
              "width": 0.5
             },
             "pattern": {
              "fillmode": "overlay",
              "size": 10,
              "solidity": 0.2
             }
            },
            "type": "barpolar"
           }
          ],
          "carpet": [
           {
            "aaxis": {
             "endlinecolor": "#2a3f5f",
             "gridcolor": "white",
             "linecolor": "white",
             "minorgridcolor": "white",
             "startlinecolor": "#2a3f5f"
            },
            "baxis": {
             "endlinecolor": "#2a3f5f",
             "gridcolor": "white",
             "linecolor": "white",
             "minorgridcolor": "white",
             "startlinecolor": "#2a3f5f"
            },
            "type": "carpet"
           }
          ],
          "choropleth": [
           {
            "colorbar": {
             "outlinewidth": 0,
             "ticks": ""
            },
            "type": "choropleth"
           }
          ],
          "contour": [
           {
            "colorbar": {
             "outlinewidth": 0,
             "ticks": ""
            },
            "colorscale": [
             [
              0,
              "#0d0887"
             ],
             [
              0.1111111111111111,
              "#46039f"
             ],
             [
              0.2222222222222222,
              "#7201a8"
             ],
             [
              0.3333333333333333,
              "#9c179e"
             ],
             [
              0.4444444444444444,
              "#bd3786"
             ],
             [
              0.5555555555555556,
              "#d8576b"
             ],
             [
              0.6666666666666666,
              "#ed7953"
             ],
             [
              0.7777777777777778,
              "#fb9f3a"
             ],
             [
              0.8888888888888888,
              "#fdca26"
             ],
             [
              1,
              "#f0f921"
             ]
            ],
            "type": "contour"
           }
          ],
          "contourcarpet": [
           {
            "colorbar": {
             "outlinewidth": 0,
             "ticks": ""
            },
            "type": "contourcarpet"
           }
          ],
          "heatmap": [
           {
            "colorbar": {
             "outlinewidth": 0,
             "ticks": ""
            },
            "colorscale": [
             [
              0,
              "#0d0887"
             ],
             [
              0.1111111111111111,
              "#46039f"
             ],
             [
              0.2222222222222222,
              "#7201a8"
             ],
             [
              0.3333333333333333,
              "#9c179e"
             ],
             [
              0.4444444444444444,
              "#bd3786"
             ],
             [
              0.5555555555555556,
              "#d8576b"
             ],
             [
              0.6666666666666666,
              "#ed7953"
             ],
             [
              0.7777777777777778,
              "#fb9f3a"
             ],
             [
              0.8888888888888888,
              "#fdca26"
             ],
             [
              1,
              "#f0f921"
             ]
            ],
            "type": "heatmap"
           }
          ],
          "heatmapgl": [
           {
            "colorbar": {
             "outlinewidth": 0,
             "ticks": ""
            },
            "colorscale": [
             [
              0,
              "#0d0887"
             ],
             [
              0.1111111111111111,
              "#46039f"
             ],
             [
              0.2222222222222222,
              "#7201a8"
             ],
             [
              0.3333333333333333,
              "#9c179e"
             ],
             [
              0.4444444444444444,
              "#bd3786"
             ],
             [
              0.5555555555555556,
              "#d8576b"
             ],
             [
              0.6666666666666666,
              "#ed7953"
             ],
             [
              0.7777777777777778,
              "#fb9f3a"
             ],
             [
              0.8888888888888888,
              "#fdca26"
             ],
             [
              1,
              "#f0f921"
             ]
            ],
            "type": "heatmapgl"
           }
          ],
          "histogram": [
           {
            "marker": {
             "pattern": {
              "fillmode": "overlay",
              "size": 10,
              "solidity": 0.2
             }
            },
            "type": "histogram"
           }
          ],
          "histogram2d": [
           {
            "colorbar": {
             "outlinewidth": 0,
             "ticks": ""
            },
            "colorscale": [
             [
              0,
              "#0d0887"
             ],
             [
              0.1111111111111111,
              "#46039f"
             ],
             [
              0.2222222222222222,
              "#7201a8"
             ],
             [
              0.3333333333333333,
              "#9c179e"
             ],
             [
              0.4444444444444444,
              "#bd3786"
             ],
             [
              0.5555555555555556,
              "#d8576b"
             ],
             [
              0.6666666666666666,
              "#ed7953"
             ],
             [
              0.7777777777777778,
              "#fb9f3a"
             ],
             [
              0.8888888888888888,
              "#fdca26"
             ],
             [
              1,
              "#f0f921"
             ]
            ],
            "type": "histogram2d"
           }
          ],
          "histogram2dcontour": [
           {
            "colorbar": {
             "outlinewidth": 0,
             "ticks": ""
            },
            "colorscale": [
             [
              0,
              "#0d0887"
             ],
             [
              0.1111111111111111,
              "#46039f"
             ],
             [
              0.2222222222222222,
              "#7201a8"
             ],
             [
              0.3333333333333333,
              "#9c179e"
             ],
             [
              0.4444444444444444,
              "#bd3786"
             ],
             [
              0.5555555555555556,
              "#d8576b"
             ],
             [
              0.6666666666666666,
              "#ed7953"
             ],
             [
              0.7777777777777778,
              "#fb9f3a"
             ],
             [
              0.8888888888888888,
              "#fdca26"
             ],
             [
              1,
              "#f0f921"
             ]
            ],
            "type": "histogram2dcontour"
           }
          ],
          "mesh3d": [
           {
            "colorbar": {
             "outlinewidth": 0,
             "ticks": ""
            },
            "type": "mesh3d"
           }
          ],
          "parcoords": [
           {
            "line": {
             "colorbar": {
              "outlinewidth": 0,
              "ticks": ""
             }
            },
            "type": "parcoords"
           }
          ],
          "pie": [
           {
            "automargin": true,
            "type": "pie"
           }
          ],
          "scatter": [
           {
            "fillpattern": {
             "fillmode": "overlay",
             "size": 10,
             "solidity": 0.2
            },
            "type": "scatter"
           }
          ],
          "scatter3d": [
           {
            "line": {
             "colorbar": {
              "outlinewidth": 0,
              "ticks": ""
             }
            },
            "marker": {
             "colorbar": {
              "outlinewidth": 0,
              "ticks": ""
             }
            },
            "type": "scatter3d"
           }
          ],
          "scattercarpet": [
           {
            "marker": {
             "colorbar": {
              "outlinewidth": 0,
              "ticks": ""
             }
            },
            "type": "scattercarpet"
           }
          ],
          "scattergeo": [
           {
            "marker": {
             "colorbar": {
              "outlinewidth": 0,
              "ticks": ""
             }
            },
            "type": "scattergeo"
           }
          ],
          "scattergl": [
           {
            "marker": {
             "colorbar": {
              "outlinewidth": 0,
              "ticks": ""
             }
            },
            "type": "scattergl"
           }
          ],
          "scattermapbox": [
           {
            "marker": {
             "colorbar": {
              "outlinewidth": 0,
              "ticks": ""
             }
            },
            "type": "scattermapbox"
           }
          ],
          "scatterpolar": [
           {
            "marker": {
             "colorbar": {
              "outlinewidth": 0,
              "ticks": ""
             }
            },
            "type": "scatterpolar"
           }
          ],
          "scatterpolargl": [
           {
            "marker": {
             "colorbar": {
              "outlinewidth": 0,
              "ticks": ""
             }
            },
            "type": "scatterpolargl"
           }
          ],
          "scatterternary": [
           {
            "marker": {
             "colorbar": {
              "outlinewidth": 0,
              "ticks": ""
             }
            },
            "type": "scatterternary"
           }
          ],
          "surface": [
           {
            "colorbar": {
             "outlinewidth": 0,
             "ticks": ""
            },
            "colorscale": [
             [
              0,
              "#0d0887"
             ],
             [
              0.1111111111111111,
              "#46039f"
             ],
             [
              0.2222222222222222,
              "#7201a8"
             ],
             [
              0.3333333333333333,
              "#9c179e"
             ],
             [
              0.4444444444444444,
              "#bd3786"
             ],
             [
              0.5555555555555556,
              "#d8576b"
             ],
             [
              0.6666666666666666,
              "#ed7953"
             ],
             [
              0.7777777777777778,
              "#fb9f3a"
             ],
             [
              0.8888888888888888,
              "#fdca26"
             ],
             [
              1,
              "#f0f921"
             ]
            ],
            "type": "surface"
           }
          ],
          "table": [
           {
            "cells": {
             "fill": {
              "color": "#EBF0F8"
             },
             "line": {
              "color": "white"
             }
            },
            "header": {
             "fill": {
              "color": "#C8D4E3"
             },
             "line": {
              "color": "white"
             }
            },
            "type": "table"
           }
          ]
         },
         "layout": {
          "annotationdefaults": {
           "arrowcolor": "#2a3f5f",
           "arrowhead": 0,
           "arrowwidth": 1
          },
          "autotypenumbers": "strict",
          "coloraxis": {
           "colorbar": {
            "outlinewidth": 0,
            "ticks": ""
           }
          },
          "colorscale": {
           "diverging": [
            [
             0,
             "#8e0152"
            ],
            [
             0.1,
             "#c51b7d"
            ],
            [
             0.2,
             "#de77ae"
            ],
            [
             0.3,
             "#f1b6da"
            ],
            [
             0.4,
             "#fde0ef"
            ],
            [
             0.5,
             "#f7f7f7"
            ],
            [
             0.6,
             "#e6f5d0"
            ],
            [
             0.7,
             "#b8e186"
            ],
            [
             0.8,
             "#7fbc41"
            ],
            [
             0.9,
             "#4d9221"
            ],
            [
             1,
             "#276419"
            ]
           ],
           "sequential": [
            [
             0,
             "#0d0887"
            ],
            [
             0.1111111111111111,
             "#46039f"
            ],
            [
             0.2222222222222222,
             "#7201a8"
            ],
            [
             0.3333333333333333,
             "#9c179e"
            ],
            [
             0.4444444444444444,
             "#bd3786"
            ],
            [
             0.5555555555555556,
             "#d8576b"
            ],
            [
             0.6666666666666666,
             "#ed7953"
            ],
            [
             0.7777777777777778,
             "#fb9f3a"
            ],
            [
             0.8888888888888888,
             "#fdca26"
            ],
            [
             1,
             "#f0f921"
            ]
           ],
           "sequentialminus": [
            [
             0,
             "#0d0887"
            ],
            [
             0.1111111111111111,
             "#46039f"
            ],
            [
             0.2222222222222222,
             "#7201a8"
            ],
            [
             0.3333333333333333,
             "#9c179e"
            ],
            [
             0.4444444444444444,
             "#bd3786"
            ],
            [
             0.5555555555555556,
             "#d8576b"
            ],
            [
             0.6666666666666666,
             "#ed7953"
            ],
            [
             0.7777777777777778,
             "#fb9f3a"
            ],
            [
             0.8888888888888888,
             "#fdca26"
            ],
            [
             1,
             "#f0f921"
            ]
           ]
          },
          "colorway": [
           "#636efa",
           "#EF553B",
           "#00cc96",
           "#ab63fa",
           "#FFA15A",
           "#19d3f3",
           "#FF6692",
           "#B6E880",
           "#FF97FF",
           "#FECB52"
          ],
          "font": {
           "color": "#2a3f5f"
          },
          "geo": {
           "bgcolor": "white",
           "lakecolor": "white",
           "landcolor": "#E5ECF6",
           "showlakes": true,
           "showland": true,
           "subunitcolor": "white"
          },
          "hoverlabel": {
           "align": "left"
          },
          "hovermode": "closest",
          "mapbox": {
           "style": "light"
          },
          "paper_bgcolor": "white",
          "plot_bgcolor": "#E5ECF6",
          "polar": {
           "angularaxis": {
            "gridcolor": "white",
            "linecolor": "white",
            "ticks": ""
           },
           "bgcolor": "#E5ECF6",
           "radialaxis": {
            "gridcolor": "white",
            "linecolor": "white",
            "ticks": ""
           }
          },
          "scene": {
           "xaxis": {
            "backgroundcolor": "#E5ECF6",
            "gridcolor": "white",
            "gridwidth": 2,
            "linecolor": "white",
            "showbackground": true,
            "ticks": "",
            "zerolinecolor": "white"
           },
           "yaxis": {
            "backgroundcolor": "#E5ECF6",
            "gridcolor": "white",
            "gridwidth": 2,
            "linecolor": "white",
            "showbackground": true,
            "ticks": "",
            "zerolinecolor": "white"
           },
           "zaxis": {
            "backgroundcolor": "#E5ECF6",
            "gridcolor": "white",
            "gridwidth": 2,
            "linecolor": "white",
            "showbackground": true,
            "ticks": "",
            "zerolinecolor": "white"
           }
          },
          "shapedefaults": {
           "line": {
            "color": "#2a3f5f"
           }
          },
          "ternary": {
           "aaxis": {
            "gridcolor": "white",
            "linecolor": "white",
            "ticks": ""
           },
           "baxis": {
            "gridcolor": "white",
            "linecolor": "white",
            "ticks": ""
           },
           "bgcolor": "#E5ECF6",
           "caxis": {
            "gridcolor": "white",
            "linecolor": "white",
            "ticks": ""
           }
          },
          "title": {
           "x": 0.05
          },
          "xaxis": {
           "automargin": true,
           "gridcolor": "white",
           "linecolor": "white",
           "ticks": "",
           "title": {
            "standoff": 15
           },
           "zerolinecolor": "white",
           "zerolinewidth": 2
          },
          "yaxis": {
           "automargin": true,
           "gridcolor": "white",
           "linecolor": "white",
           "ticks": "",
           "title": {
            "standoff": 15
           },
           "zerolinecolor": "white",
           "zerolinewidth": 2
          }
         }
        }
       }
      }
     },
     "metadata": {},
     "output_type": "display_data"
    }
   ],
   "source": [
    "df_comments_eda = df_comments_eda.sort_values(by=[\"text_display\"]).loc[df_comments_eda[\"mean_likes\"]>10]\n",
    "\n",
    "fig = go.Figure()\n",
    "fig.add_trace(go.Scatter(x=df_comments_eda[\"author_name\"], y=df_comments_eda[\"mean_likes\"]))\n",
    "fig.add_trace(go.Scatter(x=df_comments_eda[\"author_name\"], y=df_comments_eda[\"likes_max\"]))\n",
    "fig.add_trace(go.Scatter(x=df_comments_eda[\"author_name\"], y=df_comments_eda[\"likes_min\"]))\n",
    "fig.show()"
   ]
  },
  {
   "cell_type": "code",
   "execution_count": 5,
   "metadata": {},
   "outputs": [
    {
     "data": {
      "application/vnd.plotly.v1+json": {
       "config": {
        "plotlyServerURL": "https://plot.ly"
       },
       "data": [
        {
         "type": "scatter",
         "x": [
          "Jesus Says"
         ],
         "y": [
          6
         ]
        }
       ],
       "layout": {
        "template": {
         "data": {
          "bar": [
           {
            "error_x": {
             "color": "#2a3f5f"
            },
            "error_y": {
             "color": "#2a3f5f"
            },
            "marker": {
             "line": {
              "color": "#E5ECF6",
              "width": 0.5
             },
             "pattern": {
              "fillmode": "overlay",
              "size": 10,
              "solidity": 0.2
             }
            },
            "type": "bar"
           }
          ],
          "barpolar": [
           {
            "marker": {
             "line": {
              "color": "#E5ECF6",
              "width": 0.5
             },
             "pattern": {
              "fillmode": "overlay",
              "size": 10,
              "solidity": 0.2
             }
            },
            "type": "barpolar"
           }
          ],
          "carpet": [
           {
            "aaxis": {
             "endlinecolor": "#2a3f5f",
             "gridcolor": "white",
             "linecolor": "white",
             "minorgridcolor": "white",
             "startlinecolor": "#2a3f5f"
            },
            "baxis": {
             "endlinecolor": "#2a3f5f",
             "gridcolor": "white",
             "linecolor": "white",
             "minorgridcolor": "white",
             "startlinecolor": "#2a3f5f"
            },
            "type": "carpet"
           }
          ],
          "choropleth": [
           {
            "colorbar": {
             "outlinewidth": 0,
             "ticks": ""
            },
            "type": "choropleth"
           }
          ],
          "contour": [
           {
            "colorbar": {
             "outlinewidth": 0,
             "ticks": ""
            },
            "colorscale": [
             [
              0,
              "#0d0887"
             ],
             [
              0.1111111111111111,
              "#46039f"
             ],
             [
              0.2222222222222222,
              "#7201a8"
             ],
             [
              0.3333333333333333,
              "#9c179e"
             ],
             [
              0.4444444444444444,
              "#bd3786"
             ],
             [
              0.5555555555555556,
              "#d8576b"
             ],
             [
              0.6666666666666666,
              "#ed7953"
             ],
             [
              0.7777777777777778,
              "#fb9f3a"
             ],
             [
              0.8888888888888888,
              "#fdca26"
             ],
             [
              1,
              "#f0f921"
             ]
            ],
            "type": "contour"
           }
          ],
          "contourcarpet": [
           {
            "colorbar": {
             "outlinewidth": 0,
             "ticks": ""
            },
            "type": "contourcarpet"
           }
          ],
          "heatmap": [
           {
            "colorbar": {
             "outlinewidth": 0,
             "ticks": ""
            },
            "colorscale": [
             [
              0,
              "#0d0887"
             ],
             [
              0.1111111111111111,
              "#46039f"
             ],
             [
              0.2222222222222222,
              "#7201a8"
             ],
             [
              0.3333333333333333,
              "#9c179e"
             ],
             [
              0.4444444444444444,
              "#bd3786"
             ],
             [
              0.5555555555555556,
              "#d8576b"
             ],
             [
              0.6666666666666666,
              "#ed7953"
             ],
             [
              0.7777777777777778,
              "#fb9f3a"
             ],
             [
              0.8888888888888888,
              "#fdca26"
             ],
             [
              1,
              "#f0f921"
             ]
            ],
            "type": "heatmap"
           }
          ],
          "heatmapgl": [
           {
            "colorbar": {
             "outlinewidth": 0,
             "ticks": ""
            },
            "colorscale": [
             [
              0,
              "#0d0887"
             ],
             [
              0.1111111111111111,
              "#46039f"
             ],
             [
              0.2222222222222222,
              "#7201a8"
             ],
             [
              0.3333333333333333,
              "#9c179e"
             ],
             [
              0.4444444444444444,
              "#bd3786"
             ],
             [
              0.5555555555555556,
              "#d8576b"
             ],
             [
              0.6666666666666666,
              "#ed7953"
             ],
             [
              0.7777777777777778,
              "#fb9f3a"
             ],
             [
              0.8888888888888888,
              "#fdca26"
             ],
             [
              1,
              "#f0f921"
             ]
            ],
            "type": "heatmapgl"
           }
          ],
          "histogram": [
           {
            "marker": {
             "pattern": {
              "fillmode": "overlay",
              "size": 10,
              "solidity": 0.2
             }
            },
            "type": "histogram"
           }
          ],
          "histogram2d": [
           {
            "colorbar": {
             "outlinewidth": 0,
             "ticks": ""
            },
            "colorscale": [
             [
              0,
              "#0d0887"
             ],
             [
              0.1111111111111111,
              "#46039f"
             ],
             [
              0.2222222222222222,
              "#7201a8"
             ],
             [
              0.3333333333333333,
              "#9c179e"
             ],
             [
              0.4444444444444444,
              "#bd3786"
             ],
             [
              0.5555555555555556,
              "#d8576b"
             ],
             [
              0.6666666666666666,
              "#ed7953"
             ],
             [
              0.7777777777777778,
              "#fb9f3a"
             ],
             [
              0.8888888888888888,
              "#fdca26"
             ],
             [
              1,
              "#f0f921"
             ]
            ],
            "type": "histogram2d"
           }
          ],
          "histogram2dcontour": [
           {
            "colorbar": {
             "outlinewidth": 0,
             "ticks": ""
            },
            "colorscale": [
             [
              0,
              "#0d0887"
             ],
             [
              0.1111111111111111,
              "#46039f"
             ],
             [
              0.2222222222222222,
              "#7201a8"
             ],
             [
              0.3333333333333333,
              "#9c179e"
             ],
             [
              0.4444444444444444,
              "#bd3786"
             ],
             [
              0.5555555555555556,
              "#d8576b"
             ],
             [
              0.6666666666666666,
              "#ed7953"
             ],
             [
              0.7777777777777778,
              "#fb9f3a"
             ],
             [
              0.8888888888888888,
              "#fdca26"
             ],
             [
              1,
              "#f0f921"
             ]
            ],
            "type": "histogram2dcontour"
           }
          ],
          "mesh3d": [
           {
            "colorbar": {
             "outlinewidth": 0,
             "ticks": ""
            },
            "type": "mesh3d"
           }
          ],
          "parcoords": [
           {
            "line": {
             "colorbar": {
              "outlinewidth": 0,
              "ticks": ""
             }
            },
            "type": "parcoords"
           }
          ],
          "pie": [
           {
            "automargin": true,
            "type": "pie"
           }
          ],
          "scatter": [
           {
            "fillpattern": {
             "fillmode": "overlay",
             "size": 10,
             "solidity": 0.2
            },
            "type": "scatter"
           }
          ],
          "scatter3d": [
           {
            "line": {
             "colorbar": {
              "outlinewidth": 0,
              "ticks": ""
             }
            },
            "marker": {
             "colorbar": {
              "outlinewidth": 0,
              "ticks": ""
             }
            },
            "type": "scatter3d"
           }
          ],
          "scattercarpet": [
           {
            "marker": {
             "colorbar": {
              "outlinewidth": 0,
              "ticks": ""
             }
            },
            "type": "scattercarpet"
           }
          ],
          "scattergeo": [
           {
            "marker": {
             "colorbar": {
              "outlinewidth": 0,
              "ticks": ""
             }
            },
            "type": "scattergeo"
           }
          ],
          "scattergl": [
           {
            "marker": {
             "colorbar": {
              "outlinewidth": 0,
              "ticks": ""
             }
            },
            "type": "scattergl"
           }
          ],
          "scattermapbox": [
           {
            "marker": {
             "colorbar": {
              "outlinewidth": 0,
              "ticks": ""
             }
            },
            "type": "scattermapbox"
           }
          ],
          "scatterpolar": [
           {
            "marker": {
             "colorbar": {
              "outlinewidth": 0,
              "ticks": ""
             }
            },
            "type": "scatterpolar"
           }
          ],
          "scatterpolargl": [
           {
            "marker": {
             "colorbar": {
              "outlinewidth": 0,
              "ticks": ""
             }
            },
            "type": "scatterpolargl"
           }
          ],
          "scatterternary": [
           {
            "marker": {
             "colorbar": {
              "outlinewidth": 0,
              "ticks": ""
             }
            },
            "type": "scatterternary"
           }
          ],
          "surface": [
           {
            "colorbar": {
             "outlinewidth": 0,
             "ticks": ""
            },
            "colorscale": [
             [
              0,
              "#0d0887"
             ],
             [
              0.1111111111111111,
              "#46039f"
             ],
             [
              0.2222222222222222,
              "#7201a8"
             ],
             [
              0.3333333333333333,
              "#9c179e"
             ],
             [
              0.4444444444444444,
              "#bd3786"
             ],
             [
              0.5555555555555556,
              "#d8576b"
             ],
             [
              0.6666666666666666,
              "#ed7953"
             ],
             [
              0.7777777777777778,
              "#fb9f3a"
             ],
             [
              0.8888888888888888,
              "#fdca26"
             ],
             [
              1,
              "#f0f921"
             ]
            ],
            "type": "surface"
           }
          ],
          "table": [
           {
            "cells": {
             "fill": {
              "color": "#EBF0F8"
             },
             "line": {
              "color": "white"
             }
            },
            "header": {
             "fill": {
              "color": "#C8D4E3"
             },
             "line": {
              "color": "white"
             }
            },
            "type": "table"
           }
          ]
         },
         "layout": {
          "annotationdefaults": {
           "arrowcolor": "#2a3f5f",
           "arrowhead": 0,
           "arrowwidth": 1
          },
          "autotypenumbers": "strict",
          "coloraxis": {
           "colorbar": {
            "outlinewidth": 0,
            "ticks": ""
           }
          },
          "colorscale": {
           "diverging": [
            [
             0,
             "#8e0152"
            ],
            [
             0.1,
             "#c51b7d"
            ],
            [
             0.2,
             "#de77ae"
            ],
            [
             0.3,
             "#f1b6da"
            ],
            [
             0.4,
             "#fde0ef"
            ],
            [
             0.5,
             "#f7f7f7"
            ],
            [
             0.6,
             "#e6f5d0"
            ],
            [
             0.7,
             "#b8e186"
            ],
            [
             0.8,
             "#7fbc41"
            ],
            [
             0.9,
             "#4d9221"
            ],
            [
             1,
             "#276419"
            ]
           ],
           "sequential": [
            [
             0,
             "#0d0887"
            ],
            [
             0.1111111111111111,
             "#46039f"
            ],
            [
             0.2222222222222222,
             "#7201a8"
            ],
            [
             0.3333333333333333,
             "#9c179e"
            ],
            [
             0.4444444444444444,
             "#bd3786"
            ],
            [
             0.5555555555555556,
             "#d8576b"
            ],
            [
             0.6666666666666666,
             "#ed7953"
            ],
            [
             0.7777777777777778,
             "#fb9f3a"
            ],
            [
             0.8888888888888888,
             "#fdca26"
            ],
            [
             1,
             "#f0f921"
            ]
           ],
           "sequentialminus": [
            [
             0,
             "#0d0887"
            ],
            [
             0.1111111111111111,
             "#46039f"
            ],
            [
             0.2222222222222222,
             "#7201a8"
            ],
            [
             0.3333333333333333,
             "#9c179e"
            ],
            [
             0.4444444444444444,
             "#bd3786"
            ],
            [
             0.5555555555555556,
             "#d8576b"
            ],
            [
             0.6666666666666666,
             "#ed7953"
            ],
            [
             0.7777777777777778,
             "#fb9f3a"
            ],
            [
             0.8888888888888888,
             "#fdca26"
            ],
            [
             1,
             "#f0f921"
            ]
           ]
          },
          "colorway": [
           "#636efa",
           "#EF553B",
           "#00cc96",
           "#ab63fa",
           "#FFA15A",
           "#19d3f3",
           "#FF6692",
           "#B6E880",
           "#FF97FF",
           "#FECB52"
          ],
          "font": {
           "color": "#2a3f5f"
          },
          "geo": {
           "bgcolor": "white",
           "lakecolor": "white",
           "landcolor": "#E5ECF6",
           "showlakes": true,
           "showland": true,
           "subunitcolor": "white"
          },
          "hoverlabel": {
           "align": "left"
          },
          "hovermode": "closest",
          "mapbox": {
           "style": "light"
          },
          "paper_bgcolor": "white",
          "plot_bgcolor": "#E5ECF6",
          "polar": {
           "angularaxis": {
            "gridcolor": "white",
            "linecolor": "white",
            "ticks": ""
           },
           "bgcolor": "#E5ECF6",
           "radialaxis": {
            "gridcolor": "white",
            "linecolor": "white",
            "ticks": ""
           }
          },
          "scene": {
           "xaxis": {
            "backgroundcolor": "#E5ECF6",
            "gridcolor": "white",
            "gridwidth": 2,
            "linecolor": "white",
            "showbackground": true,
            "ticks": "",
            "zerolinecolor": "white"
           },
           "yaxis": {
            "backgroundcolor": "#E5ECF6",
            "gridcolor": "white",
            "gridwidth": 2,
            "linecolor": "white",
            "showbackground": true,
            "ticks": "",
            "zerolinecolor": "white"
           },
           "zaxis": {
            "backgroundcolor": "#E5ECF6",
            "gridcolor": "white",
            "gridwidth": 2,
            "linecolor": "white",
            "showbackground": true,
            "ticks": "",
            "zerolinecolor": "white"
           }
          },
          "shapedefaults": {
           "line": {
            "color": "#2a3f5f"
           }
          },
          "ternary": {
           "aaxis": {
            "gridcolor": "white",
            "linecolor": "white",
            "ticks": ""
           },
           "baxis": {
            "gridcolor": "white",
            "linecolor": "white",
            "ticks": ""
           },
           "bgcolor": "#E5ECF6",
           "caxis": {
            "gridcolor": "white",
            "linecolor": "white",
            "ticks": ""
           }
          },
          "title": {
           "x": 0.05
          },
          "xaxis": {
           "automargin": true,
           "gridcolor": "white",
           "linecolor": "white",
           "ticks": "",
           "title": {
            "standoff": 15
           },
           "zerolinecolor": "white",
           "zerolinewidth": 2
          },
          "yaxis": {
           "automargin": true,
           "gridcolor": "white",
           "linecolor": "white",
           "ticks": "",
           "title": {
            "standoff": 15
           },
           "zerolinecolor": "white",
           "zerolinewidth": 2
          }
         }
        }
       }
      }
     },
     "metadata": {},
     "output_type": "display_data"
    }
   ],
   "source": [
    "df_comments_eda = df_comments_eda.sort_values(by=[\"text_display\"]).loc[df_comments_eda[\"text_display\"]>5]\n",
    "fig = go.Figure()\n",
    "fig.add_trace(go.Scatter(x=df_comments_eda[\"author_name\"], y=df_comments_eda[\"text_display\"]))\n",
    "fig.show()"
   ]
  },
  {
   "cell_type": "code",
   "execution_count": 6,
   "metadata": {},
   "outputs": [
    {
     "data": {
      "application/vnd.plotly.v1+json": {
       "config": {
        "plotlyServerURL": "https://plot.ly"
       },
       "data": [
        {
         "customdata": [
          [
           "Jesus Says"
          ]
         ],
         "hovertemplate": "mean_likes=%{x}<br>text_display=%{y}<br>author_name=%{customdata[0]}<extra></extra>",
         "legendgroup": "",
         "marker": {
          "color": "#636efa",
          "symbol": "circle"
         },
         "mode": "markers",
         "name": "",
         "orientation": "v",
         "showlegend": false,
         "type": "scatter",
         "x": [
          14.333333333333334
         ],
         "xaxis": "x",
         "y": [
          6
         ],
         "yaxis": "y"
        }
       ],
       "layout": {
        "legend": {
         "tracegroupgap": 0
        },
        "margin": {
         "t": 60
        },
        "template": {
         "data": {
          "bar": [
           {
            "error_x": {
             "color": "#2a3f5f"
            },
            "error_y": {
             "color": "#2a3f5f"
            },
            "marker": {
             "line": {
              "color": "#E5ECF6",
              "width": 0.5
             },
             "pattern": {
              "fillmode": "overlay",
              "size": 10,
              "solidity": 0.2
             }
            },
            "type": "bar"
           }
          ],
          "barpolar": [
           {
            "marker": {
             "line": {
              "color": "#E5ECF6",
              "width": 0.5
             },
             "pattern": {
              "fillmode": "overlay",
              "size": 10,
              "solidity": 0.2
             }
            },
            "type": "barpolar"
           }
          ],
          "carpet": [
           {
            "aaxis": {
             "endlinecolor": "#2a3f5f",
             "gridcolor": "white",
             "linecolor": "white",
             "minorgridcolor": "white",
             "startlinecolor": "#2a3f5f"
            },
            "baxis": {
             "endlinecolor": "#2a3f5f",
             "gridcolor": "white",
             "linecolor": "white",
             "minorgridcolor": "white",
             "startlinecolor": "#2a3f5f"
            },
            "type": "carpet"
           }
          ],
          "choropleth": [
           {
            "colorbar": {
             "outlinewidth": 0,
             "ticks": ""
            },
            "type": "choropleth"
           }
          ],
          "contour": [
           {
            "colorbar": {
             "outlinewidth": 0,
             "ticks": ""
            },
            "colorscale": [
             [
              0,
              "#0d0887"
             ],
             [
              0.1111111111111111,
              "#46039f"
             ],
             [
              0.2222222222222222,
              "#7201a8"
             ],
             [
              0.3333333333333333,
              "#9c179e"
             ],
             [
              0.4444444444444444,
              "#bd3786"
             ],
             [
              0.5555555555555556,
              "#d8576b"
             ],
             [
              0.6666666666666666,
              "#ed7953"
             ],
             [
              0.7777777777777778,
              "#fb9f3a"
             ],
             [
              0.8888888888888888,
              "#fdca26"
             ],
             [
              1,
              "#f0f921"
             ]
            ],
            "type": "contour"
           }
          ],
          "contourcarpet": [
           {
            "colorbar": {
             "outlinewidth": 0,
             "ticks": ""
            },
            "type": "contourcarpet"
           }
          ],
          "heatmap": [
           {
            "colorbar": {
             "outlinewidth": 0,
             "ticks": ""
            },
            "colorscale": [
             [
              0,
              "#0d0887"
             ],
             [
              0.1111111111111111,
              "#46039f"
             ],
             [
              0.2222222222222222,
              "#7201a8"
             ],
             [
              0.3333333333333333,
              "#9c179e"
             ],
             [
              0.4444444444444444,
              "#bd3786"
             ],
             [
              0.5555555555555556,
              "#d8576b"
             ],
             [
              0.6666666666666666,
              "#ed7953"
             ],
             [
              0.7777777777777778,
              "#fb9f3a"
             ],
             [
              0.8888888888888888,
              "#fdca26"
             ],
             [
              1,
              "#f0f921"
             ]
            ],
            "type": "heatmap"
           }
          ],
          "heatmapgl": [
           {
            "colorbar": {
             "outlinewidth": 0,
             "ticks": ""
            },
            "colorscale": [
             [
              0,
              "#0d0887"
             ],
             [
              0.1111111111111111,
              "#46039f"
             ],
             [
              0.2222222222222222,
              "#7201a8"
             ],
             [
              0.3333333333333333,
              "#9c179e"
             ],
             [
              0.4444444444444444,
              "#bd3786"
             ],
             [
              0.5555555555555556,
              "#d8576b"
             ],
             [
              0.6666666666666666,
              "#ed7953"
             ],
             [
              0.7777777777777778,
              "#fb9f3a"
             ],
             [
              0.8888888888888888,
              "#fdca26"
             ],
             [
              1,
              "#f0f921"
             ]
            ],
            "type": "heatmapgl"
           }
          ],
          "histogram": [
           {
            "marker": {
             "pattern": {
              "fillmode": "overlay",
              "size": 10,
              "solidity": 0.2
             }
            },
            "type": "histogram"
           }
          ],
          "histogram2d": [
           {
            "colorbar": {
             "outlinewidth": 0,
             "ticks": ""
            },
            "colorscale": [
             [
              0,
              "#0d0887"
             ],
             [
              0.1111111111111111,
              "#46039f"
             ],
             [
              0.2222222222222222,
              "#7201a8"
             ],
             [
              0.3333333333333333,
              "#9c179e"
             ],
             [
              0.4444444444444444,
              "#bd3786"
             ],
             [
              0.5555555555555556,
              "#d8576b"
             ],
             [
              0.6666666666666666,
              "#ed7953"
             ],
             [
              0.7777777777777778,
              "#fb9f3a"
             ],
             [
              0.8888888888888888,
              "#fdca26"
             ],
             [
              1,
              "#f0f921"
             ]
            ],
            "type": "histogram2d"
           }
          ],
          "histogram2dcontour": [
           {
            "colorbar": {
             "outlinewidth": 0,
             "ticks": ""
            },
            "colorscale": [
             [
              0,
              "#0d0887"
             ],
             [
              0.1111111111111111,
              "#46039f"
             ],
             [
              0.2222222222222222,
              "#7201a8"
             ],
             [
              0.3333333333333333,
              "#9c179e"
             ],
             [
              0.4444444444444444,
              "#bd3786"
             ],
             [
              0.5555555555555556,
              "#d8576b"
             ],
             [
              0.6666666666666666,
              "#ed7953"
             ],
             [
              0.7777777777777778,
              "#fb9f3a"
             ],
             [
              0.8888888888888888,
              "#fdca26"
             ],
             [
              1,
              "#f0f921"
             ]
            ],
            "type": "histogram2dcontour"
           }
          ],
          "mesh3d": [
           {
            "colorbar": {
             "outlinewidth": 0,
             "ticks": ""
            },
            "type": "mesh3d"
           }
          ],
          "parcoords": [
           {
            "line": {
             "colorbar": {
              "outlinewidth": 0,
              "ticks": ""
             }
            },
            "type": "parcoords"
           }
          ],
          "pie": [
           {
            "automargin": true,
            "type": "pie"
           }
          ],
          "scatter": [
           {
            "fillpattern": {
             "fillmode": "overlay",
             "size": 10,
             "solidity": 0.2
            },
            "type": "scatter"
           }
          ],
          "scatter3d": [
           {
            "line": {
             "colorbar": {
              "outlinewidth": 0,
              "ticks": ""
             }
            },
            "marker": {
             "colorbar": {
              "outlinewidth": 0,
              "ticks": ""
             }
            },
            "type": "scatter3d"
           }
          ],
          "scattercarpet": [
           {
            "marker": {
             "colorbar": {
              "outlinewidth": 0,
              "ticks": ""
             }
            },
            "type": "scattercarpet"
           }
          ],
          "scattergeo": [
           {
            "marker": {
             "colorbar": {
              "outlinewidth": 0,
              "ticks": ""
             }
            },
            "type": "scattergeo"
           }
          ],
          "scattergl": [
           {
            "marker": {
             "colorbar": {
              "outlinewidth": 0,
              "ticks": ""
             }
            },
            "type": "scattergl"
           }
          ],
          "scattermapbox": [
           {
            "marker": {
             "colorbar": {
              "outlinewidth": 0,
              "ticks": ""
             }
            },
            "type": "scattermapbox"
           }
          ],
          "scatterpolar": [
           {
            "marker": {
             "colorbar": {
              "outlinewidth": 0,
              "ticks": ""
             }
            },
            "type": "scatterpolar"
           }
          ],
          "scatterpolargl": [
           {
            "marker": {
             "colorbar": {
              "outlinewidth": 0,
              "ticks": ""
             }
            },
            "type": "scatterpolargl"
           }
          ],
          "scatterternary": [
           {
            "marker": {
             "colorbar": {
              "outlinewidth": 0,
              "ticks": ""
             }
            },
            "type": "scatterternary"
           }
          ],
          "surface": [
           {
            "colorbar": {
             "outlinewidth": 0,
             "ticks": ""
            },
            "colorscale": [
             [
              0,
              "#0d0887"
             ],
             [
              0.1111111111111111,
              "#46039f"
             ],
             [
              0.2222222222222222,
              "#7201a8"
             ],
             [
              0.3333333333333333,
              "#9c179e"
             ],
             [
              0.4444444444444444,
              "#bd3786"
             ],
             [
              0.5555555555555556,
              "#d8576b"
             ],
             [
              0.6666666666666666,
              "#ed7953"
             ],
             [
              0.7777777777777778,
              "#fb9f3a"
             ],
             [
              0.8888888888888888,
              "#fdca26"
             ],
             [
              1,
              "#f0f921"
             ]
            ],
            "type": "surface"
           }
          ],
          "table": [
           {
            "cells": {
             "fill": {
              "color": "#EBF0F8"
             },
             "line": {
              "color": "white"
             }
            },
            "header": {
             "fill": {
              "color": "#C8D4E3"
             },
             "line": {
              "color": "white"
             }
            },
            "type": "table"
           }
          ]
         },
         "layout": {
          "annotationdefaults": {
           "arrowcolor": "#2a3f5f",
           "arrowhead": 0,
           "arrowwidth": 1
          },
          "autotypenumbers": "strict",
          "coloraxis": {
           "colorbar": {
            "outlinewidth": 0,
            "ticks": ""
           }
          },
          "colorscale": {
           "diverging": [
            [
             0,
             "#8e0152"
            ],
            [
             0.1,
             "#c51b7d"
            ],
            [
             0.2,
             "#de77ae"
            ],
            [
             0.3,
             "#f1b6da"
            ],
            [
             0.4,
             "#fde0ef"
            ],
            [
             0.5,
             "#f7f7f7"
            ],
            [
             0.6,
             "#e6f5d0"
            ],
            [
             0.7,
             "#b8e186"
            ],
            [
             0.8,
             "#7fbc41"
            ],
            [
             0.9,
             "#4d9221"
            ],
            [
             1,
             "#276419"
            ]
           ],
           "sequential": [
            [
             0,
             "#0d0887"
            ],
            [
             0.1111111111111111,
             "#46039f"
            ],
            [
             0.2222222222222222,
             "#7201a8"
            ],
            [
             0.3333333333333333,
             "#9c179e"
            ],
            [
             0.4444444444444444,
             "#bd3786"
            ],
            [
             0.5555555555555556,
             "#d8576b"
            ],
            [
             0.6666666666666666,
             "#ed7953"
            ],
            [
             0.7777777777777778,
             "#fb9f3a"
            ],
            [
             0.8888888888888888,
             "#fdca26"
            ],
            [
             1,
             "#f0f921"
            ]
           ],
           "sequentialminus": [
            [
             0,
             "#0d0887"
            ],
            [
             0.1111111111111111,
             "#46039f"
            ],
            [
             0.2222222222222222,
             "#7201a8"
            ],
            [
             0.3333333333333333,
             "#9c179e"
            ],
            [
             0.4444444444444444,
             "#bd3786"
            ],
            [
             0.5555555555555556,
             "#d8576b"
            ],
            [
             0.6666666666666666,
             "#ed7953"
            ],
            [
             0.7777777777777778,
             "#fb9f3a"
            ],
            [
             0.8888888888888888,
             "#fdca26"
            ],
            [
             1,
             "#f0f921"
            ]
           ]
          },
          "colorway": [
           "#636efa",
           "#EF553B",
           "#00cc96",
           "#ab63fa",
           "#FFA15A",
           "#19d3f3",
           "#FF6692",
           "#B6E880",
           "#FF97FF",
           "#FECB52"
          ],
          "font": {
           "color": "#2a3f5f"
          },
          "geo": {
           "bgcolor": "white",
           "lakecolor": "white",
           "landcolor": "#E5ECF6",
           "showlakes": true,
           "showland": true,
           "subunitcolor": "white"
          },
          "hoverlabel": {
           "align": "left"
          },
          "hovermode": "closest",
          "mapbox": {
           "style": "light"
          },
          "paper_bgcolor": "white",
          "plot_bgcolor": "#E5ECF6",
          "polar": {
           "angularaxis": {
            "gridcolor": "white",
            "linecolor": "white",
            "ticks": ""
           },
           "bgcolor": "#E5ECF6",
           "radialaxis": {
            "gridcolor": "white",
            "linecolor": "white",
            "ticks": ""
           }
          },
          "scene": {
           "xaxis": {
            "backgroundcolor": "#E5ECF6",
            "gridcolor": "white",
            "gridwidth": 2,
            "linecolor": "white",
            "showbackground": true,
            "ticks": "",
            "zerolinecolor": "white"
           },
           "yaxis": {
            "backgroundcolor": "#E5ECF6",
            "gridcolor": "white",
            "gridwidth": 2,
            "linecolor": "white",
            "showbackground": true,
            "ticks": "",
            "zerolinecolor": "white"
           },
           "zaxis": {
            "backgroundcolor": "#E5ECF6",
            "gridcolor": "white",
            "gridwidth": 2,
            "linecolor": "white",
            "showbackground": true,
            "ticks": "",
            "zerolinecolor": "white"
           }
          },
          "shapedefaults": {
           "line": {
            "color": "#2a3f5f"
           }
          },
          "ternary": {
           "aaxis": {
            "gridcolor": "white",
            "linecolor": "white",
            "ticks": ""
           },
           "baxis": {
            "gridcolor": "white",
            "linecolor": "white",
            "ticks": ""
           },
           "bgcolor": "#E5ECF6",
           "caxis": {
            "gridcolor": "white",
            "linecolor": "white",
            "ticks": ""
           }
          },
          "title": {
           "x": 0.05
          },
          "xaxis": {
           "automargin": true,
           "gridcolor": "white",
           "linecolor": "white",
           "ticks": "",
           "title": {
            "standoff": 15
           },
           "zerolinecolor": "white",
           "zerolinewidth": 2
          },
          "yaxis": {
           "automargin": true,
           "gridcolor": "white",
           "linecolor": "white",
           "ticks": "",
           "title": {
            "standoff": 15
           },
           "zerolinecolor": "white",
           "zerolinewidth": 2
          }
         }
        },
        "xaxis": {
         "anchor": "y",
         "domain": [
          0,
          1
         ],
         "title": {
          "text": "mean_likes"
         }
        },
        "yaxis": {
         "anchor": "x",
         "domain": [
          0,
          1
         ],
         "title": {
          "text": "text_display"
         }
        }
       }
      }
     },
     "metadata": {},
     "output_type": "display_data"
    }
   ],
   "source": [
    "import plotly.express as px\n",
    "fig = px.scatter(df_comments_eda.loc[df_comments_eda[\"text_display\"]>0].loc[df_comments_eda[\"mean_likes\"]>0], x=\"mean_likes\", y=\"text_display\", hover_data = [\"author_name\"]\n",
    "                 ) #size='mean_likes'\n",
    "fig.show()"
   ]
  },
  {
   "cell_type": "code",
   "execution_count": 7,
   "metadata": {},
   "outputs": [
    {
     "data": {
      "text/html": [
       "<div>\n",
       "<style scoped>\n",
       "    .dataframe tbody tr th:only-of-type {\n",
       "        vertical-align: middle;\n",
       "    }\n",
       "\n",
       "    .dataframe tbody tr th {\n",
       "        vertical-align: top;\n",
       "    }\n",
       "\n",
       "    .dataframe thead th {\n",
       "        text-align: right;\n",
       "    }\n",
       "</style>\n",
       "<table border=\"1\" class=\"dataframe\">\n",
       "  <thead>\n",
       "    <tr style=\"text-align: right;\">\n",
       "      <th></th>\n",
       "      <th>author_name</th>\n",
       "      <th>text_display</th>\n",
       "      <th>likes_sum</th>\n",
       "      <th>likes_max</th>\n",
       "      <th>likes_min</th>\n",
       "      <th>mean_likes</th>\n",
       "    </tr>\n",
       "  </thead>\n",
       "  <tbody>\n",
       "    <tr>\n",
       "      <th>2610</th>\n",
       "      <td>Jesus Says</td>\n",
       "      <td>6</td>\n",
       "      <td>86.0</td>\n",
       "      <td>25.0</td>\n",
       "      <td>10.0</td>\n",
       "      <td>14.333333</td>\n",
       "    </tr>\n",
       "  </tbody>\n",
       "</table>\n",
       "</div>"
      ],
      "text/plain": [
       "     author_name  text_display  likes_sum  likes_max  likes_min  mean_likes\n",
       "2610  Jesus Says             6       86.0       25.0       10.0   14.333333"
      ]
     },
     "execution_count": 7,
     "metadata": {},
     "output_type": "execute_result"
    }
   ],
   "source": [
    "df_comments_eda"
   ]
  },
  {
   "cell_type": "code",
   "execution_count": 8,
   "metadata": {},
   "outputs": [
    {
     "name": "stderr",
     "output_type": "stream",
     "text": [
      "/var/folders/8d/87cwf9891qb19jpvx9ms8v000000gn/T/ipykernel_43586/3554473749.py:3: SettingWithCopyWarning:\n",
      "\n",
      "\n",
      "A value is trying to be set on a copy of a slice from a DataFrame.\n",
      "Try using .loc[row_indexer,col_indexer] = value instead\n",
      "\n",
      "See the caveats in the documentation: https://pandas.pydata.org/pandas-docs/stable/user_guide/indexing.html#returning-a-view-versus-a-copy\n",
      "\n"
     ]
    }
   ],
   "source": [
    "aux_list = list()\n",
    "df_videos_ = df_videos[[\"video_id\",\"tags\"]]\n",
    "df_videos_[\"tags\"] = df_videos.tags.str.split(\",\")\n",
    "df_tags_analysis = df_videos_.explode(\"tags\")\n",
    "\n",
    "df_tags_analysis = df_tags_analysis.merge(df_videos[[\"video_id\",\"viewCount\",\"likeCount\",\"commentCount\"]], on=\"video_id\", how=\"left\")"
   ]
  },
  {
   "cell_type": "code",
   "execution_count": 9,
   "metadata": {},
   "outputs": [
    {
     "name": "stderr",
     "output_type": "stream",
     "text": [
      "/var/folders/8d/87cwf9891qb19jpvx9ms8v000000gn/T/ipykernel_43586/4074999250.py:1: FutureWarning:\n",
      "\n",
      "The default value of regex will change from True to False in a future version.\n",
      "\n"
     ]
    }
   ],
   "source": [
    "df_tags_analysis[\"tags\"] = df_tags_analysis[\"tags\"].str.replace(\"['[]]\", \"\")\n",
    "df_tags_analysis = df_tags_analysis.drop_duplicates()\n",
    "df_tags_analysis = df_tags_analysis.groupby('tags', as_index=False).agg(\n",
    "    view_sum = pd.NamedAgg(column='viewCount', aggfunc='sum'),\n",
    "    like_sum = pd.NamedAgg(column='likeCount', aggfunc='sum'),\n",
    "    comment_sum = pd.NamedAgg(column='commentCount', aggfunc='sum')\n",
    ")"
   ]
  },
  {
   "cell_type": "code",
   "execution_count": 10,
   "metadata": {},
   "outputs": [
    {
     "data": {
      "application/vnd.plotly.v1+json": {
       "config": {
        "plotlyServerURL": "https://plot.ly"
       },
       "data": [
        {
         "type": "bar",
         "x": [
          " 'mike mullen'",
          " 'baby'",
          " 'baby formula'",
          " 'baby formula shortage'",
          " 'operation fly formula'",
          " 'baby food shortage'",
          " 'formula shortage'",
          " 'cnn'",
          " 'this week'",
          "['2024'",
          " 'reelection'",
          " 'biden reelection'",
          " 'trump campaign'",
          " 'biden campaign'",
          " 'trump reelection'",
          " '2024 election candidates'",
          " '2024 candidates'",
          " 'trump announcement'",
          " 'trump reelection campaign",
          " 'military air'",
          " 'russian invasion in ukraine'",
          " 'biden ukraine announcement'",
          " 'putin invasion'",
          " 'brian deese'",
          " 'cbs'",
          " 'house democrats'",
          " 'trigger laws'",
          " 'alexandria ocasio-cortez'",
          " 'criminalization of abortion'",
          " 'joe rogan'",
          " 'brene brown'",
          " 'spotify'",
          " 'the real joe rogan experience",
          " 'joni mitchell'",
          " 'neil young'",
          " 'tops grocery'",
          " 'babies'",
          " 'active shooter'",
          " 'womens health",
          " 'abortion activists'",
          " 'reproduction'",
          " 'birth'",
          " 'reproductive'",
          " 'jan. 6 investigation'",
          " 'jan. 6 hearing'",
          " 'january 6 hearings'",
          " 'chris murphy'",
          " 'ro khanna'",
          " 'jim risch'",
          " 'dictator'",
          " 'julianne smith'",
          " 'mark warner'",
          " 'stephen breyer'",
          " 'nominate'",
          " 'washington dc",
          " 'misinformation'",
          " 'disinformation'",
          " 'pro-life'",
          " 'reproductive rights'",
          " 'sotomayor'",
          " 'anti-choice'",
          " 'thomas'",
          " 'roberts court'",
          " 'kagan'",
          " 'barrett'",
          " 'abortion restrictions'",
          " 'james risch'",
          " 'senate bill'",
          " 'antiabortion activists'",
          " 'abortion constitution'",
          " 'podcast'",
          " 'anti-abortion'",
          " 'mar a lago'",
          " 'downplay'",
          " 'troy nehls",
          " 'tom emmer'",
          " 'rand paul'",
          " 'mashup'",
          " 'roger wicker'",
          " 'texts'",
          " 'abortion ban'",
          " 'reproductive health'",
          " 'biden full speech'",
          " 'shooter'",
          " 'ron johnson'",
          " 'fox news'",
          " 'formula'",
          " 'uvalde texas",
          " 'white supremacy",
          " 'children'",
          " 'january 6 committee investigation'",
          " 'trump criminal investigation'",
          " 'trump criminal probe",
          " 'daron taylor'",
          " 'olympics boycott'",
          " 'olympic games'",
          " 'winter olympics begin",
          " 'beijing summer games 2008'",
          " 'les carpenter'",
          " 'christian shepherd'",
          " 'china winter olympics'",
          " 'china olympics'",
          " 'china human rights'",
          " 'china freedoms'",
          " 'jules boykoff'",
          " 'beijing winter games'",
          " 'when do the winter olympics start'",
          " 'booster'",
          " 'analysis'",
          " 'kavanaugh'",
          " 'gorsuch'",
          " 'budd'",
          "['2022 election'",
          " '2022 primary'",
          " 'election 2022'",
          " 'election denier'",
          " 'mastriano'",
          " 'primary race'",
          " 'former president trump'",
          " 'regime change'",
          " 'beijing winter olympics'",
          " 'oklahoma'",
          " 'majority opinion'",
          " 'john roberts'",
          " 'planned parenthood v casey'",
          " 'elementary school'",
          " 'scott perry'",
          " 'news'",
          " 'invade'",
          " 'beijing'",
          " 'reporters'",
          " 'samuel alito'",
          " 'united states",
          " 'zoe lofgren",
          " 'tops'",
          " 'bennie thompson'",
          " 'matthew pottinger'",
          " 'sarah matthews'",
          " 'winter olympics'",
          " 'biden anniversary speech'",
          " 'insurrection anniversary'",
          " 'capitol mob anniversary'",
          " 'supreme court ruling'",
          " 'supreme court ruling roe v. wade'",
          " 'supreme court decision roe v. wade'",
          " 'dobbs v. jackson'",
          " 'renewable energy'",
          " 'mark finley'",
          " 'clean energy'",
          " 'russia oil ban'",
          " 'price of oil'",
          " 'james cornsilk'",
          " 'mazut'",
          " 'bill cassidy'",
          " 'post'",
          " 'elise stefanik'",
          " 'social media'",
          " 'louie gohmert'",
          " 'judicial'",
          " 'trigger laws",
          " 'racist'",
          " 'uvalde texas shooting",
          " 'governor greb abbott'",
          " 'wade",
          " 'january 6 investigation'",
          " 'honking'",
          " 'exhaust fumes'",
          " 'rick scott'",
          " 'virginia thomas'",
          " 'ethics'",
          " 'cory booker'",
          " 'healthcare'",
          " 'midterm election'",
          " 'maga mob'",
          " 'jan6 hearing'",
          " 'iraq'",
          " 'leaked draft'",
          " 'lauren boebert'",
          " 'beau biden'",
          " 'burn pits'",
          " 'tex.'",
          " 'jake sullivan'",
          " 'voting rights act",
          " 'tokyo'",
          " 'gu ailing'",
          " 'naturalized citizens'",
          " 'naturalization'",
          " 'pyongchang'",
          " 'aileen frisch'",
          " 'beverly zhu'",
          " 'viktor ahn'",
          " 'xi jinping'",
          " 'zhu yi",
          " 'vaccine protest",
          " 'vaccine passport'",
          " 'vaccine mandates'",
          " 'mandate freedom'",
          " 'kansas abortion referendum'",
          " 'kansas abortion question'",
          " 'kansas abortion'",
          " 'kansas abortion results'",
          " 'ev'",
          " 'electric vehicles'",
          " 'national riffle association'",
          " 'robb elementary school shooting'",
          " 'ukrainian troops'",
          "['2nd amendment'",
          " 'vlodomir zelensky'",
          " 'overturn'",
          " 'high gas prices'",
          " 'russia oil'",
          " 'fake electors'",
          " 'jan. 6 capitol attack'",
          " '2021'",
          " 'president donald trump'",
          " '2020 election fraud claims'",
          " 'supreme court decision'",
          " 'biden supreme court nominee'",
          " 'federal bureau of investigations'",
          " 'trump fbi'",
          " 'fbi investigation'",
          " 'trump documents'",
          " 'fbi raid'",
          " 'trump investigation",
          " 'ashley parker'",
          " 'elaine luria'",
          " 'tom rice",
          " 'amy gardner'",
          " 'kate starbird'",
          " 'fred upton'",
          " 'interview'",
          " 'jackie alemany'",
          " 'graham brookie'",
          " 'jan. 6 insurrection'",
          " 'sochi'",
          " 'brooklyn nets'",
          " 'buffalo bills'",
          " 'kyrie irving'",
          " 'vaccine mandate",
          " 'tennis'",
          " 'australian open'",
          " 'grand slam'",
          " 'rafael nadal'",
          " 'cole beasly'",
          " 'athletes'",
          " 'ukraine russia conflict'",
          " 'eileen gu'",
          " 'anti-feminists'",
          " 'misogyny'",
          " 'backlash'",
          " 'feminist'",
          " 'primary election'",
          " 'racism'",
          " 'tom cotton",
          " 'mike lee'",
          " 'roy blunt'",
          " 'john lewis'",
          " 'lloyd austin'",
          " 'ambassador'",
          " 'defense department'",
          " 'feminism'",
          " 'nbc'",
          " 'uvalde school shooting",
          " 'texas school shooting'",
          " 'taipei'",
          " 'tsai ing-wen'",
          "['beijing'",
          " 'may 9'",
          " 'joe manchin'",
          " 'afghanistan'",
          "['2022 midterm elections'",
          " 'pro-choice'",
          " 'odesa'",
          " 'global'",
          " 'climate'",
          " 'outbreak'",
          " 'seoul'",
          " 'south korea'",
          " 'jens stoltenberg'",
          " 'ted cruz'",
          " 'union square'",
          " 'washington square park",
          " 'dobbs v jackson'",
          " 'kansas'",
          " 'tucker carlson'",
          " 'free speech'",
          " 'legal'",
          " 'sports'",
          " 'basketball'",
          " 'libby casey'",
          " 'nba'",
          " 'supreme court nominee'",
          " '2022 midterms'",
          " 'green bay packers'",
          " 'january 6 committee'",
          " 'midterms'",
          " 'james austin johnson'",
          " 'pro life'",
          " 'immigration'",
          " 'north carolina'",
          " 'mob'",
          " 'indictment'",
          " 'indict'",
          " 'charge'",
          " 'don bacon'",
          " 'january 6 capitol attack'",
          " 'chris jacobs'",
          " 'sauli niinistö'",
          " 'bob mcnally'",
          " 'planned parenthood v. casey'",
          " 'rob portman'",
          " 'elections'",
          " 'ar-15'",
          " 'spread'",
          " 'mandates'",
          " 'oligarchs'",
          " 'pro choice'",
          " 'presidential election'",
          " 'military aid'",
          " 'the big lies'",
          " 'jan 6 panel'",
          " 'jan 6 hearings'",
          " 'archives'",
          " 'records'",
          " 'diplomacy'",
          " 'macron'",
          " 'vice president pence",
          " 'bbb'",
          " 'secretary of state'",
          " 'abc news'",
          " 'wyoming",
          " 'oksana markarova'",
          " 'jan 6 attack'",
          " \"women's rights\"]",
          " 'aaron rodgers'",
          " 'anthony ornato'",
          " 'testimony'",
          " 'testify'",
          " 'rhonda colvin'",
          " 'fbi search'",
          " 'nfl'",
          " 'dobbs'",
          " 'presidential records act'",
          " 'federal government'",
          " 'midterm elections'",
          " 'virginia thomas",
          " 'justice thomas'",
          " 'supreme court justice clarence thomas'",
          " 'global warming'",
          " 'jan 6 committee'",
          " 'novak djokovic'",
          " 'crime'",
          " 'ahmaud arbery killed'",
          " 'life without possibility of parole'",
          " 'lynched'",
          " 'lynching'",
          " 'malice murder'",
          " 'felony murder'",
          " 'marcus arbery'",
          " 'william roddie bryan",
          " 'ahmaud arbery murdered'",
          " 'ahmaud arbery killers'",
          " 'life sentence'",
          " 'hate crime charges'",
          " 'hearings'",
          " 'women'",
          " 'monkeypox'",
          " 'marsha blackburn'",
          " 'robb elementary school'",
          " 'world",
          " 'dan crenshaw'",
          " 'steve scalise'",
          " 'taiwan'",
          " 'security'",
          " 't:Other",
          " 'criminal'",
          " 'kamila valieva'",
          " 'john kirby'",
          " 'police response'",
          " 'mitt romney'",
          " 's:Weather'",
          " 'a:local/weather'",
          " 'laura ingraham'",
          " 'russian'",
          " 'john cornyn'",
          " 'campaign'",
          " 'jan. 6 committee'",
          " 'kamala harris'",
          " 'abortion access'",
          " 'atlanta'",
          " 'jim jordan'",
          " 'kate mckinnon'",
          " 'kentucky'",
          " 'russia army'",
          " 'secret service'",
          " 'missile'",
          " 'whitney leaming",
          " 'marco rubio'",
          " 'chuck grassley'",
          " 'virus'",
          " 'democratic party'",
          "['2022 winter olympics'",
          " 'cases'",
          " 'ukraine war",
          " 'antony blinken'",
          " 'zelensky'",
          " 'beijing 2022'",
          " 'insulin'",
          " 'amendments'",
          " 'tim kaine",
          " 'senate republicans'",
          " 'patty murray'",
          " 'diabetes'",
          " 'insulin price cap'",
          " 'national security'",
          " 'midterm'",
          " 'draft'",
          " 'president trump'",
          " 'sotu'",
          " 'elementary'",
          " 'cincinnati'",
          " 'impeach'",
          " 'impeachment'",
          " 'ukraine-russia'",
          " 'finland'",
          " 'top secret",
          " 'search warrant'",
          " 'mike turner'",
          " 'scif'",
          " 'affidavit'",
          " 'mike mccaul'",
          " 'brian fitzpatrick'",
          " 'opinion'",
          " 'state department'",
          " 'pennsylvania'",
          " 'football'",
          " 'court'",
          " 'stolen election'",
          " 'nuclear weapons'",
          " 'parents'",
          " 'ginni thomas'",
          " 'email server'",
          " 'classified documents'",
          " 'boxes'",
          " 'national archives'",
          " 'gov abott'",
          " 'abbott'",
          " 'travis mcmichael'",
          " 'greg mcmichael'",
          " 'amy coney barrett'",
          " 'ukraine separtists'",
          " 'stanytsia luhanska'",
          " 'false flags'",
          " 'kindergarten shelling'",
          " 'ukraine school'",
          " 'munich'",
          " 'ukraine russia war'",
          " 'ira'",
          " 'democracy'",
          " 'select committee'",
          " 'figure skating'",
          " 'state of the union 2022'",
          " 'saturday night live'",
          " 'mike rounds'",
          " 'doj'",
          "['a:national'",
          " 'josh hawley'",
          " 'snl'",
          " 'documents'",
          " 'email'",
          " 'jamie raskin'",
          " 'michael turner'",
          " 'palm beach'",
          " 'ukraine poland'",
          " 'luhansk'",
          " 'health'",
          " 'hillary clinton'",
          " 'vote",
          " 'freedom to vote act'",
          " 'european union'",
          " 'crimea'",
          " 'voting rights'",
          " 'chernihiv'",
          " 'stare decisis'",
          " 'confirm'",
          " 'casey v planned parenthood'",
          " 'mass murder'",
          " 'belarus'",
          " 'senate judiciary committee'",
          " 'school'",
          " 'mitch mcconnell'",
          " 'florida'",
          " 'john lewis voting rights act'",
          " 'russian atrocities'",
          " 'execution'",
          " 'ukraine invaded'",
          " 'lethal aid'",
          " 'civilians murdered'",
          " 'sinema'",
          " 'committee'",
          " 'hollywood'",
          " 'ceasefire'",
          " 'january 6 select committee'",
          " 'leak'",
          " 'clarence thomas'",
          " 'war crime'",
          " 'confirmation'",
          " 'primary'",
          " 'vote'",
          " 'judiciary'",
          " 'charles schumer'",
          " 'gun rights'",
          " 'pentagon'",
          " 'rally'",
          " 'vaccine mandate protest",
          " 'ottawa seige'",
          " 'ottawa occupation'",
          " 'freedom convoy 2022'",
          " 'cdc'",
          " 'cancer'",
          " 'precedent'",
          " 'buffalo'",
          " 'robb elementary'",
          " 'alito'",
          " 'ruby mellen'",
          " 'russian advance'",
          " 'aoc'",
          " 'inflation reduction act'",
          " 'cassidy hutchinson'",
          "['Md. & Va.",
          " 'casey'",
          "['a:politics'",
          " 'entertainment'",
          " 'breakthrough'",
          " 'johnson & johnson'",
          " 'susan collins'",
          " 'neil gorsuch'",
          " 'brett kavanaugh'",
          " 'investigation'",
          " 'nra'",
          " 'senator ted cruz'",
          " \"let's go brandon\"",
          "['#letsgobrandon'",
          " 'jim lamon'",
          " 'lets go brandon'",
          " 'fjb'",
          " 'brandon brown'",
          " 'bill posey'",
          " 'f joe biden'",
          " \"ted cruz let's go brandon\"]",
          " 'lee m. pierce'",
          " 'lgb'",
          " 'nascar'",
          " 'jeff duncan'",
          " 'fuck joe biden'",
          " 'beijing olympics'",
          " 'mandate'",
          " 'donetsk'",
          " 'jan6'",
          " 'russia sanctions'",
          " 'full biden speech capitol attack'",
          " 'biden january 6 anniversary speech'",
          " 'full biden speech'",
          " 'full speech'",
          " 'u.s. capitol'",
          " 'manchin'",
          " 'video",
          " 'amy klobuchar'",
          " 'adam schiff'",
          " 'health care'",
          " 'olympics'",
          " 'department of justice'",
          " 'eastern ukraine'",
          " 'white house matthew mcconaughey'",
          " 'biden matthew mcconaughey'",
          " 'mcconaughey'",
          " 'matthew mcconaughey'",
          " 'infections'",
          " 'pfizer'",
          " 'moderna'",
          " 'schumer'",
          " 'antiabortion'",
          " 'mark meadows'",
          " 'variant",
          " 'protests'",
          " 'planned parenthood'",
          " 'justin trudeau'",
          " 'kevin mccarthy'",
          " 'president joe biden'",
          " 'justice'",
          " 'mass shooting'",
          "['2020 election'",
          " 'hospitalizations'",
          " 'speech'",
          " 'climate change'",
          " 'bila tserkva'",
          " 'president'",
          " 'territorial defense'",
          " 'white house press briefing",
          " 'shooting'",
          " 'riot'",
          " 'sunday shows'",
          " 'delta'",
          " 'capitol mob'",
          " 'school shooting'",
          " 'protest'",
          " 'ukraine bombs'",
          " 'ukraine self defense'",
          " 'molotov cocktails'",
          " 'ukraine civilian defense'",
          " 'nancy pelosi'",
          " 'truckers'",
          " 'foreign affairs'",
          " 'foreign policy'",
          " 'donbass'",
          " 'the washington post'",
          " 'adam kinzinger'",
          " 'kherson'",
          " 'britain'",
          " 'ukraine peace talks'",
          " 'georgia'",
          " 'filibuster'",
          " 'china'",
          " 'january 6 attack'",
          " 't:Reuters'",
          " 'lee powell'",
          " 'uvalde texas'",
          " 'classified'",
          " 'maga'",
          " 'search'",
          " 'raid'",
          " 'hilton'",
          " 'a:sports'",
          " 's:Sports'",
          " 'president putin'",
          " 'chuck schumer'",
          " 'comedian'",
          " 'kim kardashian'",
          " 'media'",
          " 'volodymyr zelensky'",
          " 'merrick garland'",
          " 'russian war'",
          " 'roe'",
          " 's:Coronavirus'",
          " 'a:science/coronavirus'",
          " 'trump",
          " 'police'",
          " 'jill biden'",
          " 'russia-ukraine war'",
          " 'guns'",
          " 'house of representatives'",
          " 'refugees'",
          " 'abortion rights'",
          " 'uvalde",
          " 'capitol insurrection'",
          " 'gun violence'",
          " 'harris'",
          " 'uvalde'",
          " 'justice department'",
          " 'new york'",
          " 'poland'",
          " 'lindsey graham'",
          " 'fauci'",
          " 'war",
          " 'white house correspondents dinner",
          " 'vaccine'",
          " 'mar-a-lago'",
          " 'u.s.'",
          " 'roe v. wade'",
          " 'state of the union'",
          " 'ukraine shelling'",
          " 'fbi'",
          " 'election'",
          " 'biden administration'",
          " 'russia attack'",
          " 'refugee'",
          " 'abortion'",
          " 'roe v wade'",
          " 'comedy'",
          " 'supreme court justice'",
          " 'lviv'",
          " 'capitol'",
          " 'ukraine massacre'",
          " 'ukraine war crimes'",
          " 'russian withdrawal'",
          " 'ukraine mass graves'",
          " 'news conference'",
          " 'torture'",
          " 'beheadings'",
          "['abortion'",
          " 'canadian truckers'",
          " 'russian tanks'",
          " 'nomination'",
          " 'war crimes'",
          " 'omicron'",
          " 'murder'",
          " 'trucker protests'",
          " 'ottawa protests'",
          " 'anti vaccine mandates'",
          " 'canada protests'",
          " 'covid19'",
          " 'virus",
          " 'president zelensky'",
          " 'makariv'",
          " 'white house bts'",
          " 'k-pop'",
          " 'hate crimes'",
          " 'bts'",
          " 'white house briefing'",
          " 'xenophobia",
          " 'anti-asian hate'",
          " 'covid-19 hate crimes act'",
          " 'sanctions'",
          " 'russia war'",
          " 't:Other'",
          " 'january 6'",
          " 'russia strikes'",
          " 'house'",
          " 'scotus'",
          " 'ukraine bombing'",
          " 'biden speech'",
          " 'jan. 6'",
          " 'moscow'",
          " 'russian offensive'",
          " 'democrat'",
          " 'russian troops'",
          " 'ukraine nato'",
          " 'russia military buildup'",
          " 'russia soldiers'",
          " 'russia border'",
          " 'russian military'",
          " 'biden putin'",
          " 'ukraine soldiers'",
          " 'ketanji brown jackson'",
          " 'News'",
          " 'ukraine idps'",
          " 'russia crisis'",
          " 'joe biden'",
          " 'freedom convoy'",
          " 'ottawa'",
          " 'canada'",
          " 'nuclear alert'",
          " 'greenfield'",
          " 'gas prices'",
          " 'stoltenberg'",
          " 'gun control'",
          " 'ukraine border'",
          " 'ukraine militias'",
          " 'vaccines'",
          " 'ukraine",
          " 'ukraine genocide'",
          " 'donbas'",
          " 'ukraine casualties'",
          " 'nuclear'",
          " 'russian aggression'",
          " 'united nations'",
          " 'un'",
          " 'russian attack'",
          " 'republican'",
          " 'russia ukraine'",
          " 'vladimir putin",
          " 'ukraine military'",
          " 'vladimir putin'",
          " 'russia conflict'",
          " 'russia military'",
          " 'mass graves'",
          " 'odessa'",
          " 'karine jean-pierre'",
          " 'ukraine deaths'",
          " 'a:national'",
          " 'daily show'",
          " 'texas'",
          " 'gop'",
          " 'congress'",
          " 't:Original",
          " 'pandemic'",
          " 's:National'",
          " 'the daily show'",
          " 'ukraine war'",
          " 'trump'",
          " 'pence'",
          " 'russian retreat'",
          " 'economy'",
          " 'covid'",
          " 'coronavirus'",
          " 'politics'",
          " 'whcd'",
          " 'mike pence'",
          " 'house committee'",
          " 'senate'",
          " 'covid-19'",
          " 'inflation'",
          " 'trevor noah'",
          " 'liz cheney'",
          " 'hearing'",
          " 'jan 6'",
          " 'republicans'",
          " 'capitol attack'",
          " 'russia invasion'",
          " 'trip'",
          " 'oscar worst moments'",
          " 'slap'",
          " 'lalaland'",
          " 'marlon brando'",
          " 'unsripted oscars'",
          " 'halle barry'",
          " 'moonlight'",
          " 'award'",
          " 'host'",
          " 'crazy moments'",
          " 'award show'",
          " 'jennifer lawrence'",
          " 'wrong name'",
          " 'will smith'",
          " 'academy awards'",
          " 'oscars'",
          " 'supreme court'",
          " 'insurrection'",
          "['biden'",
          " 'yt_kw: oscars",
          " 'capitol riot'",
          " 'war in ukraine'",
          " 'a:entertainment'",
          " 's:Arts & Entertainment'",
          " 'donald trump'",
          " 'jen psaki'",
          " 'russia war crimes'",
          " 'attack'",
          " 'white house'",
          " 'moschun'",
          " 'russian generals'",
          "['a:world'",
          " 'ukraine children'",
          " 'ukraine humanitarian'",
          " 'democrats'",
          " 'russia shelling'",
          " 'white house",
          " 'ukraine families'",
          " 'ukraine weapons'",
          " 'irpin'",
          " 'ukraine invasion'",
          " 'ukraine front lines'",
          " 'war in ukraine",
          " 'ukraine fighters'",
          " 'ukraine volunteers'",
          " 'europe'",
          " 'ukraine army'",
          " 'russian army'",
          " 'united states'",
          " 'ukraine russia'",
          " 'ukraine displaced'",
          " 'ukraine refugees'",
          " 'ukraine crisis'",
          " 'bucha'",
          " 'ukraine destruction'",
          " 'mariupol'",
          " 'war'",
          " 'russian invasion'",
          " 'a:politics'",
          " 's:Politics'",
          " 'ukraine civilians'",
          " 'kharkiv'",
          " 'a:world'",
          " 'military'",
          "['breaking news'",
          " 'ukraine conflict'",
          " 'president biden'",
          " 'nato'",
          " 'invasion'",
          " 'video updates",
          " 's:World'",
          " 'video updates'",
          " 'zelensky",
          " 'breaking news'",
          " 'russia'",
          " 'ukraine'",
          " 'biden'",
          " 'kyiv'",
          " 'The Washington Post'",
          "['News'",
          " 'Washington Post YouTube'",
          " 'WaPo Video'",
          " 'Washington Post Video'",
          " 't:Original'",
          " 'putin'",
          " 'live speeches'",
          " 'press conference'",
          " 'breaking news video'",
          " 'live video'",
          " 'real time coverage'",
          " 'live updates'"
         ],
         "y": [
          127,
          127,
          127,
          127,
          127,
          127,
          127,
          127,
          127,
          181,
          181,
          181,
          181,
          181,
          181,
          181,
          181,
          181,
          181,
          192,
          192,
          192,
          192,
          193,
          194,
          207,
          207,
          207,
          207,
          209,
          209,
          209,
          209,
          209,
          209,
          228,
          228,
          228,
          228,
          228,
          228,
          228,
          228,
          235,
          235,
          235,
          236,
          238,
          238,
          238,
          238,
          238,
          243,
          243,
          249,
          254,
          254,
          264,
          266,
          275,
          275,
          275,
          275,
          275,
          275,
          275,
          287,
          293,
          305,
          305,
          318,
          322,
          328,
          328,
          328,
          328,
          328,
          328,
          329,
          352,
          365,
          373,
          389,
          389,
          397,
          397,
          398,
          405,
          407,
          413,
          422,
          422,
          422,
          424,
          424,
          424,
          424,
          424,
          424,
          424,
          424,
          424,
          424,
          424,
          424,
          424,
          424,
          425,
          431,
          435,
          435,
          451,
          451,
          451,
          451,
          451,
          451,
          451,
          451,
          455,
          456,
          464,
          472,
          472,
          472,
          486,
          487,
          490,
          490,
          494,
          494,
          503,
          504,
          508,
          511,
          524,
          530,
          530,
          533,
          542,
          542,
          542,
          550,
          550,
          550,
          550,
          576,
          576,
          576,
          576,
          576,
          576,
          576,
          580,
          598,
          599,
          601,
          613,
          613,
          629,
          640,
          644,
          644,
          647,
          657,
          659,
          659,
          668,
          668,
          668,
          668,
          678,
          682,
          689,
          689,
          699,
          699,
          699,
          699,
          699,
          701,
          715,
          715,
          726,
          726,
          726,
          726,
          726,
          726,
          726,
          726,
          726,
          726,
          734,
          734,
          734,
          734,
          735,
          735,
          735,
          735,
          738,
          738,
          752,
          752,
          752,
          752,
          752,
          753,
          754,
          754,
          755,
          755,
          755,
          755,
          755,
          757,
          774,
          777,
          777,
          777,
          777,
          777,
          777,
          781,
          781,
          781,
          781,
          781,
          781,
          781,
          781,
          781,
          784,
          784,
          785,
          785,
          785,
          785,
          785,
          785,
          785,
          785,
          785,
          785,
          787,
          797,
          802,
          802,
          802,
          802,
          809,
          810,
          815,
          815,
          815,
          818,
          828,
          828,
          828,
          830,
          841,
          847,
          847,
          854,
          854,
          854,
          858,
          862,
          867,
          867,
          867,
          868,
          877,
          877,
          877,
          888,
          888,
          896,
          897,
          907,
          907,
          907,
          908,
          909,
          913,
          920,
          924,
          924,
          924,
          924,
          925,
          926,
          927,
          931,
          934,
          935,
          938,
          940,
          943,
          947,
          947,
          947,
          947,
          947,
          947,
          947,
          953,
          953,
          953,
          955,
          956,
          957,
          966,
          966,
          967,
          976,
          983,
          991,
          1005,
          1005,
          1005,
          1019,
          1019,
          1021,
          1029,
          1029,
          1031,
          1031,
          1047,
          1063,
          1066,
          1075,
          1082,
          1082,
          1095,
          1095,
          1095,
          1101,
          1105,
          1106,
          1107,
          1118,
          1118,
          1120,
          1136,
          1136,
          1136,
          1173,
          1180,
          1193,
          1194,
          1195,
          1195,
          1195,
          1195,
          1195,
          1195,
          1195,
          1195,
          1195,
          1195,
          1195,
          1195,
          1200,
          1207,
          1220,
          1226,
          1228,
          1235,
          1236,
          1236,
          1240,
          1241,
          1247,
          1268,
          1270,
          1278,
          1279,
          1288,
          1298,
          1298,
          1317,
          1318,
          1329,
          1347,
          1358,
          1360,
          1361,
          1364,
          1378,
          1396,
          1434,
          1444,
          1447,
          1458,
          1487,
          1510,
          1512,
          1512,
          1534,
          1535,
          1537,
          1539,
          1551,
          1558,
          1574,
          1599,
          1599,
          1599,
          1599,
          1599,
          1599,
          1599,
          1602,
          1621,
          1624,
          1643,
          1652,
          1678,
          1687,
          1689,
          1689,
          1689,
          1729,
          1742,
          1742,
          1742,
          1742,
          1742,
          1742,
          1742,
          1744,
          1750,
          1765,
          1774,
          1783,
          1786,
          1793,
          1798,
          1804,
          1809,
          1809,
          1809,
          1809,
          1813,
          1813,
          1815,
          1815,
          1817,
          1829,
          1829,
          1829,
          1829,
          1829,
          1829,
          1846,
          1892,
          1908,
          1912,
          1913,
          1923,
          1939,
          1940,
          1953,
          1963,
          1985,
          1991,
          2015,
          2025,
          2039,
          2070,
          2070,
          2073,
          2074,
          2079,
          2095,
          2105,
          2131,
          2133,
          2141,
          2172,
          2174,
          2177,
          2177,
          2177,
          2195,
          2208,
          2211,
          2215,
          2215,
          2232,
          2234,
          2273,
          2273,
          2273,
          2273,
          2273,
          2279,
          2280,
          2284,
          2300,
          2315,
          2339,
          2345,
          2353,
          2355,
          2413,
          2428,
          2458,
          2473,
          2478,
          2489,
          2493,
          2495,
          2495,
          2495,
          2495,
          2501,
          2510,
          2517,
          2517,
          2518,
          2520,
          2547,
          2547,
          2623,
          2642,
          2679,
          2687,
          2700,
          2704,
          2713,
          2730,
          2730,
          2731,
          2777,
          2777,
          2781,
          2802,
          2809,
          2809,
          2809,
          2809,
          2809,
          2809,
          2809,
          2809,
          2809,
          2809,
          2809,
          2809,
          2809,
          2809,
          2809,
          2812,
          2853,
          2854,
          2858,
          2900,
          2905,
          2905,
          2905,
          2905,
          2905,
          2939,
          2943,
          2952,
          2968,
          2975,
          2993,
          3005,
          3073,
          3089,
          3089,
          3089,
          3089,
          3094,
          3107,
          3107,
          3112,
          3126,
          3136,
          3138,
          3207,
          3214,
          3229,
          3236,
          3236,
          3354,
          3366,
          3395,
          3445,
          3447,
          3460,
          3471,
          3549,
          3561,
          3562,
          3618,
          3664,
          3704,
          3707,
          3721,
          3733,
          3778,
          3820,
          3820,
          3820,
          3820,
          3845,
          3888,
          3896,
          3896,
          3914,
          3921,
          3941,
          3941,
          3946,
          3962,
          4031,
          4046,
          4060,
          4068,
          4076,
          4083,
          4147,
          4158,
          4185,
          4224,
          4295,
          4340,
          4377,
          4377,
          4381,
          4385,
          4401,
          4407,
          4463,
          4539,
          4553,
          4573,
          4575,
          4583,
          4583,
          4588,
          4588,
          4625,
          4725,
          4735,
          4783,
          4812,
          4867,
          5195,
          5288,
          5373,
          5395,
          5524,
          5642,
          5663,
          5854,
          5896,
          5922,
          5944,
          5959,
          5999,
          6538,
          6580,
          6778,
          6868,
          7001,
          7072,
          7204,
          7240,
          7307,
          7571,
          7657,
          7689,
          7939,
          8062,
          9075,
          9132,
          9251,
          9251,
          9251,
          9251,
          9307,
          9482,
          9482,
          9555,
          9666,
          9863,
          9871,
          9915,
          9955,
          10102,
          10325,
          10325,
          10325,
          10325,
          10487,
          10565,
          10695,
          11014,
          11015,
          11015,
          11015,
          11015,
          11015,
          11015,
          11015,
          11015,
          11073,
          11101,
          11110,
          11178,
          11187,
          11377,
          11500,
          11512,
          11614,
          11623,
          11683,
          11828,
          12152,
          12233,
          12247,
          12247,
          12247,
          12247,
          12448,
          12468,
          12553,
          12802,
          12924,
          12994,
          13447,
          13546,
          13554,
          13554,
          14038,
          14261,
          14261,
          14278,
          14433,
          14530,
          14593,
          15237,
          15411,
          15541,
          15653,
          15709,
          16005,
          16235,
          16356,
          16739,
          17045,
          17601,
          17672,
          18087,
          18155,
          18987,
          19078,
          19337,
          19939,
          20104,
          20256,
          20961,
          21466,
          21913,
          22273,
          22295,
          22473,
          22605,
          23072,
          23205,
          23876,
          23892,
          24566,
          24778,
          25169,
          25196,
          25885,
          26786,
          27388,
          27673,
          28232,
          28826,
          29503,
          30683,
          30964,
          31102,
          32051,
          32162,
          32606,
          32693,
          35486,
          35651,
          36324,
          39037,
          39037,
          39037,
          39037,
          39037,
          39037,
          39037,
          39037,
          39037,
          39037,
          39037,
          39037,
          39037,
          39037,
          39252,
          39252,
          39252,
          39440,
          39798,
          39816,
          40810,
          40857,
          44577,
          48966,
          48966,
          49077,
          49860,
          51276,
          51572,
          51634,
          63931,
          63931,
          64792,
          65382,
          65474,
          65568,
          65824,
          66703,
          67618,
          67751,
          73887,
          76593,
          79268,
          79452,
          80469,
          81057,
          84858,
          91147,
          91180,
          97346,
          99872,
          100143,
          101489,
          105281,
          107561,
          107602,
          107959,
          108903,
          109654,
          109908,
          112612,
          119120,
          127773,
          128245,
          129913,
          131698,
          141786,
          149650,
          150682,
          154330,
          167214,
          193037,
          227510,
          231543,
          264903,
          266012,
          270386,
          277486,
          287031,
          289500,
          306999,
          307484,
          319542,
          319923,
          351228,
          352898,
          391227,
          391567,
          394724,
          395537,
          396601,
          396601
         ]
        }
       ],
       "layout": {
        "template": {
         "data": {
          "bar": [
           {
            "error_x": {
             "color": "#2a3f5f"
            },
            "error_y": {
             "color": "#2a3f5f"
            },
            "marker": {
             "line": {
              "color": "#E5ECF6",
              "width": 0.5
             },
             "pattern": {
              "fillmode": "overlay",
              "size": 10,
              "solidity": 0.2
             }
            },
            "type": "bar"
           }
          ],
          "barpolar": [
           {
            "marker": {
             "line": {
              "color": "#E5ECF6",
              "width": 0.5
             },
             "pattern": {
              "fillmode": "overlay",
              "size": 10,
              "solidity": 0.2
             }
            },
            "type": "barpolar"
           }
          ],
          "carpet": [
           {
            "aaxis": {
             "endlinecolor": "#2a3f5f",
             "gridcolor": "white",
             "linecolor": "white",
             "minorgridcolor": "white",
             "startlinecolor": "#2a3f5f"
            },
            "baxis": {
             "endlinecolor": "#2a3f5f",
             "gridcolor": "white",
             "linecolor": "white",
             "minorgridcolor": "white",
             "startlinecolor": "#2a3f5f"
            },
            "type": "carpet"
           }
          ],
          "choropleth": [
           {
            "colorbar": {
             "outlinewidth": 0,
             "ticks": ""
            },
            "type": "choropleth"
           }
          ],
          "contour": [
           {
            "colorbar": {
             "outlinewidth": 0,
             "ticks": ""
            },
            "colorscale": [
             [
              0,
              "#0d0887"
             ],
             [
              0.1111111111111111,
              "#46039f"
             ],
             [
              0.2222222222222222,
              "#7201a8"
             ],
             [
              0.3333333333333333,
              "#9c179e"
             ],
             [
              0.4444444444444444,
              "#bd3786"
             ],
             [
              0.5555555555555556,
              "#d8576b"
             ],
             [
              0.6666666666666666,
              "#ed7953"
             ],
             [
              0.7777777777777778,
              "#fb9f3a"
             ],
             [
              0.8888888888888888,
              "#fdca26"
             ],
             [
              1,
              "#f0f921"
             ]
            ],
            "type": "contour"
           }
          ],
          "contourcarpet": [
           {
            "colorbar": {
             "outlinewidth": 0,
             "ticks": ""
            },
            "type": "contourcarpet"
           }
          ],
          "heatmap": [
           {
            "colorbar": {
             "outlinewidth": 0,
             "ticks": ""
            },
            "colorscale": [
             [
              0,
              "#0d0887"
             ],
             [
              0.1111111111111111,
              "#46039f"
             ],
             [
              0.2222222222222222,
              "#7201a8"
             ],
             [
              0.3333333333333333,
              "#9c179e"
             ],
             [
              0.4444444444444444,
              "#bd3786"
             ],
             [
              0.5555555555555556,
              "#d8576b"
             ],
             [
              0.6666666666666666,
              "#ed7953"
             ],
             [
              0.7777777777777778,
              "#fb9f3a"
             ],
             [
              0.8888888888888888,
              "#fdca26"
             ],
             [
              1,
              "#f0f921"
             ]
            ],
            "type": "heatmap"
           }
          ],
          "heatmapgl": [
           {
            "colorbar": {
             "outlinewidth": 0,
             "ticks": ""
            },
            "colorscale": [
             [
              0,
              "#0d0887"
             ],
             [
              0.1111111111111111,
              "#46039f"
             ],
             [
              0.2222222222222222,
              "#7201a8"
             ],
             [
              0.3333333333333333,
              "#9c179e"
             ],
             [
              0.4444444444444444,
              "#bd3786"
             ],
             [
              0.5555555555555556,
              "#d8576b"
             ],
             [
              0.6666666666666666,
              "#ed7953"
             ],
             [
              0.7777777777777778,
              "#fb9f3a"
             ],
             [
              0.8888888888888888,
              "#fdca26"
             ],
             [
              1,
              "#f0f921"
             ]
            ],
            "type": "heatmapgl"
           }
          ],
          "histogram": [
           {
            "marker": {
             "pattern": {
              "fillmode": "overlay",
              "size": 10,
              "solidity": 0.2
             }
            },
            "type": "histogram"
           }
          ],
          "histogram2d": [
           {
            "colorbar": {
             "outlinewidth": 0,
             "ticks": ""
            },
            "colorscale": [
             [
              0,
              "#0d0887"
             ],
             [
              0.1111111111111111,
              "#46039f"
             ],
             [
              0.2222222222222222,
              "#7201a8"
             ],
             [
              0.3333333333333333,
              "#9c179e"
             ],
             [
              0.4444444444444444,
              "#bd3786"
             ],
             [
              0.5555555555555556,
              "#d8576b"
             ],
             [
              0.6666666666666666,
              "#ed7953"
             ],
             [
              0.7777777777777778,
              "#fb9f3a"
             ],
             [
              0.8888888888888888,
              "#fdca26"
             ],
             [
              1,
              "#f0f921"
             ]
            ],
            "type": "histogram2d"
           }
          ],
          "histogram2dcontour": [
           {
            "colorbar": {
             "outlinewidth": 0,
             "ticks": ""
            },
            "colorscale": [
             [
              0,
              "#0d0887"
             ],
             [
              0.1111111111111111,
              "#46039f"
             ],
             [
              0.2222222222222222,
              "#7201a8"
             ],
             [
              0.3333333333333333,
              "#9c179e"
             ],
             [
              0.4444444444444444,
              "#bd3786"
             ],
             [
              0.5555555555555556,
              "#d8576b"
             ],
             [
              0.6666666666666666,
              "#ed7953"
             ],
             [
              0.7777777777777778,
              "#fb9f3a"
             ],
             [
              0.8888888888888888,
              "#fdca26"
             ],
             [
              1,
              "#f0f921"
             ]
            ],
            "type": "histogram2dcontour"
           }
          ],
          "mesh3d": [
           {
            "colorbar": {
             "outlinewidth": 0,
             "ticks": ""
            },
            "type": "mesh3d"
           }
          ],
          "parcoords": [
           {
            "line": {
             "colorbar": {
              "outlinewidth": 0,
              "ticks": ""
             }
            },
            "type": "parcoords"
           }
          ],
          "pie": [
           {
            "automargin": true,
            "type": "pie"
           }
          ],
          "scatter": [
           {
            "fillpattern": {
             "fillmode": "overlay",
             "size": 10,
             "solidity": 0.2
            },
            "type": "scatter"
           }
          ],
          "scatter3d": [
           {
            "line": {
             "colorbar": {
              "outlinewidth": 0,
              "ticks": ""
             }
            },
            "marker": {
             "colorbar": {
              "outlinewidth": 0,
              "ticks": ""
             }
            },
            "type": "scatter3d"
           }
          ],
          "scattercarpet": [
           {
            "marker": {
             "colorbar": {
              "outlinewidth": 0,
              "ticks": ""
             }
            },
            "type": "scattercarpet"
           }
          ],
          "scattergeo": [
           {
            "marker": {
             "colorbar": {
              "outlinewidth": 0,
              "ticks": ""
             }
            },
            "type": "scattergeo"
           }
          ],
          "scattergl": [
           {
            "marker": {
             "colorbar": {
              "outlinewidth": 0,
              "ticks": ""
             }
            },
            "type": "scattergl"
           }
          ],
          "scattermapbox": [
           {
            "marker": {
             "colorbar": {
              "outlinewidth": 0,
              "ticks": ""
             }
            },
            "type": "scattermapbox"
           }
          ],
          "scatterpolar": [
           {
            "marker": {
             "colorbar": {
              "outlinewidth": 0,
              "ticks": ""
             }
            },
            "type": "scatterpolar"
           }
          ],
          "scatterpolargl": [
           {
            "marker": {
             "colorbar": {
              "outlinewidth": 0,
              "ticks": ""
             }
            },
            "type": "scatterpolargl"
           }
          ],
          "scatterternary": [
           {
            "marker": {
             "colorbar": {
              "outlinewidth": 0,
              "ticks": ""
             }
            },
            "type": "scatterternary"
           }
          ],
          "surface": [
           {
            "colorbar": {
             "outlinewidth": 0,
             "ticks": ""
            },
            "colorscale": [
             [
              0,
              "#0d0887"
             ],
             [
              0.1111111111111111,
              "#46039f"
             ],
             [
              0.2222222222222222,
              "#7201a8"
             ],
             [
              0.3333333333333333,
              "#9c179e"
             ],
             [
              0.4444444444444444,
              "#bd3786"
             ],
             [
              0.5555555555555556,
              "#d8576b"
             ],
             [
              0.6666666666666666,
              "#ed7953"
             ],
             [
              0.7777777777777778,
              "#fb9f3a"
             ],
             [
              0.8888888888888888,
              "#fdca26"
             ],
             [
              1,
              "#f0f921"
             ]
            ],
            "type": "surface"
           }
          ],
          "table": [
           {
            "cells": {
             "fill": {
              "color": "#EBF0F8"
             },
             "line": {
              "color": "white"
             }
            },
            "header": {
             "fill": {
              "color": "#C8D4E3"
             },
             "line": {
              "color": "white"
             }
            },
            "type": "table"
           }
          ]
         },
         "layout": {
          "annotationdefaults": {
           "arrowcolor": "#2a3f5f",
           "arrowhead": 0,
           "arrowwidth": 1
          },
          "autotypenumbers": "strict",
          "coloraxis": {
           "colorbar": {
            "outlinewidth": 0,
            "ticks": ""
           }
          },
          "colorscale": {
           "diverging": [
            [
             0,
             "#8e0152"
            ],
            [
             0.1,
             "#c51b7d"
            ],
            [
             0.2,
             "#de77ae"
            ],
            [
             0.3,
             "#f1b6da"
            ],
            [
             0.4,
             "#fde0ef"
            ],
            [
             0.5,
             "#f7f7f7"
            ],
            [
             0.6,
             "#e6f5d0"
            ],
            [
             0.7,
             "#b8e186"
            ],
            [
             0.8,
             "#7fbc41"
            ],
            [
             0.9,
             "#4d9221"
            ],
            [
             1,
             "#276419"
            ]
           ],
           "sequential": [
            [
             0,
             "#0d0887"
            ],
            [
             0.1111111111111111,
             "#46039f"
            ],
            [
             0.2222222222222222,
             "#7201a8"
            ],
            [
             0.3333333333333333,
             "#9c179e"
            ],
            [
             0.4444444444444444,
             "#bd3786"
            ],
            [
             0.5555555555555556,
             "#d8576b"
            ],
            [
             0.6666666666666666,
             "#ed7953"
            ],
            [
             0.7777777777777778,
             "#fb9f3a"
            ],
            [
             0.8888888888888888,
             "#fdca26"
            ],
            [
             1,
             "#f0f921"
            ]
           ],
           "sequentialminus": [
            [
             0,
             "#0d0887"
            ],
            [
             0.1111111111111111,
             "#46039f"
            ],
            [
             0.2222222222222222,
             "#7201a8"
            ],
            [
             0.3333333333333333,
             "#9c179e"
            ],
            [
             0.4444444444444444,
             "#bd3786"
            ],
            [
             0.5555555555555556,
             "#d8576b"
            ],
            [
             0.6666666666666666,
             "#ed7953"
            ],
            [
             0.7777777777777778,
             "#fb9f3a"
            ],
            [
             0.8888888888888888,
             "#fdca26"
            ],
            [
             1,
             "#f0f921"
            ]
           ]
          },
          "colorway": [
           "#636efa",
           "#EF553B",
           "#00cc96",
           "#ab63fa",
           "#FFA15A",
           "#19d3f3",
           "#FF6692",
           "#B6E880",
           "#FF97FF",
           "#FECB52"
          ],
          "font": {
           "color": "#2a3f5f"
          },
          "geo": {
           "bgcolor": "white",
           "lakecolor": "white",
           "landcolor": "#E5ECF6",
           "showlakes": true,
           "showland": true,
           "subunitcolor": "white"
          },
          "hoverlabel": {
           "align": "left"
          },
          "hovermode": "closest",
          "mapbox": {
           "style": "light"
          },
          "paper_bgcolor": "white",
          "plot_bgcolor": "#E5ECF6",
          "polar": {
           "angularaxis": {
            "gridcolor": "white",
            "linecolor": "white",
            "ticks": ""
           },
           "bgcolor": "#E5ECF6",
           "radialaxis": {
            "gridcolor": "white",
            "linecolor": "white",
            "ticks": ""
           }
          },
          "scene": {
           "xaxis": {
            "backgroundcolor": "#E5ECF6",
            "gridcolor": "white",
            "gridwidth": 2,
            "linecolor": "white",
            "showbackground": true,
            "ticks": "",
            "zerolinecolor": "white"
           },
           "yaxis": {
            "backgroundcolor": "#E5ECF6",
            "gridcolor": "white",
            "gridwidth": 2,
            "linecolor": "white",
            "showbackground": true,
            "ticks": "",
            "zerolinecolor": "white"
           },
           "zaxis": {
            "backgroundcolor": "#E5ECF6",
            "gridcolor": "white",
            "gridwidth": 2,
            "linecolor": "white",
            "showbackground": true,
            "ticks": "",
            "zerolinecolor": "white"
           }
          },
          "shapedefaults": {
           "line": {
            "color": "#2a3f5f"
           }
          },
          "ternary": {
           "aaxis": {
            "gridcolor": "white",
            "linecolor": "white",
            "ticks": ""
           },
           "baxis": {
            "gridcolor": "white",
            "linecolor": "white",
            "ticks": ""
           },
           "bgcolor": "#E5ECF6",
           "caxis": {
            "gridcolor": "white",
            "linecolor": "white",
            "ticks": ""
           }
          },
          "title": {
           "x": 0.05
          },
          "xaxis": {
           "automargin": true,
           "gridcolor": "white",
           "linecolor": "white",
           "ticks": "",
           "title": {
            "standoff": 15
           },
           "zerolinecolor": "white",
           "zerolinewidth": 2
          },
          "yaxis": {
           "automargin": true,
           "gridcolor": "white",
           "linecolor": "white",
           "ticks": "",
           "title": {
            "standoff": 15
           },
           "zerolinecolor": "white",
           "zerolinewidth": 2
          }
         }
        }
       }
      }
     },
     "metadata": {},
     "output_type": "display_data"
    }
   ],
   "source": [
    "df_tags_analysis = df_tags_analysis.loc[df_tags_analysis[\"comment_sum\"]>500].sort_values(by=[\"like_sum\"])\n",
    "fig = go.Figure()\n",
    "fig.add_trace(go.Bar(x=df_tags_analysis[\"tags\"], y=df_tags_analysis[\"like_sum\"]))\n",
    "fig.show()"
   ]
  },
  {
   "cell_type": "code",
   "execution_count": 11,
   "metadata": {},
   "outputs": [
    {
     "data": {
      "text/html": [
       "<div>\n",
       "<style scoped>\n",
       "    .dataframe tbody tr th:only-of-type {\n",
       "        vertical-align: middle;\n",
       "    }\n",
       "\n",
       "    .dataframe tbody tr th {\n",
       "        vertical-align: top;\n",
       "    }\n",
       "\n",
       "    .dataframe thead th {\n",
       "        text-align: right;\n",
       "    }\n",
       "</style>\n",
       "<table border=\"1\" class=\"dataframe\">\n",
       "  <thead>\n",
       "    <tr style=\"text-align: right;\">\n",
       "      <th></th>\n",
       "      <th>video_id</th>\n",
       "      <th>Date</th>\n",
       "      <th>viewCount</th>\n",
       "      <th>likeCount</th>\n",
       "      <th>commentCount</th>\n",
       "      <th>author_name</th>\n",
       "      <th>text_original</th>\n",
       "      <th>likes_count</th>\n",
       "      <th>date_published</th>\n",
       "      <th>diffDays</th>\n",
       "    </tr>\n",
       "  </thead>\n",
       "  <tbody>\n",
       "    <tr>\n",
       "      <th>0</th>\n",
       "      <td>w-NueyHZi0M</td>\n",
       "      <td>2022-08-26</td>\n",
       "      <td>5822</td>\n",
       "      <td>195</td>\n",
       "      <td>137.0</td>\n",
       "      <td>K Bear</td>\n",
       "      <td>FBI is going to have a bad day soon. Midterm h...</td>\n",
       "      <td>0.0</td>\n",
       "      <td>2022-08-27</td>\n",
       "      <td>1</td>\n",
       "    </tr>\n",
       "    <tr>\n",
       "      <th>1</th>\n",
       "      <td>w-NueyHZi0M</td>\n",
       "      <td>2022-08-26</td>\n",
       "      <td>5822</td>\n",
       "      <td>195</td>\n",
       "      <td>137.0</td>\n",
       "      <td>Greg Giles</td>\n",
       "      <td>The Documents are now witnesses, Hollywood cou...</td>\n",
       "      <td>0.0</td>\n",
       "      <td>2022-08-27</td>\n",
       "      <td>1</td>\n",
       "    </tr>\n",
       "    <tr>\n",
       "      <th>2</th>\n",
       "      <td>w-NueyHZi0M</td>\n",
       "      <td>2022-08-26</td>\n",
       "      <td>5822</td>\n",
       "      <td>195</td>\n",
       "      <td>137.0</td>\n",
       "      <td>Peter Gatliff</td>\n",
       "      <td>One story that may relavent to this story. Tru...</td>\n",
       "      <td>0.0</td>\n",
       "      <td>2022-08-27</td>\n",
       "      <td>1</td>\n",
       "    </tr>\n",
       "    <tr>\n",
       "      <th>3</th>\n",
       "      <td>w-NueyHZi0M</td>\n",
       "      <td>2022-08-26</td>\n",
       "      <td>5822</td>\n",
       "      <td>195</td>\n",
       "      <td>137.0</td>\n",
       "      <td>Erik Jehle</td>\n",
       "      <td>Trump will be Indicted.</td>\n",
       "      <td>0.0</td>\n",
       "      <td>2022-08-27</td>\n",
       "      <td>1</td>\n",
       "    </tr>\n",
       "    <tr>\n",
       "      <th>4</th>\n",
       "      <td>w-NueyHZi0M</td>\n",
       "      <td>2022-08-26</td>\n",
       "      <td>5822</td>\n",
       "      <td>195</td>\n",
       "      <td>137.0</td>\n",
       "      <td>Suz Firth</td>\n",
       "      <td>𝐓𝐫𝐮𝐦𝐩 𝐢𝐬 𝐚 𝐝𝐮𝐦𝐛 𝐓𝐇𝐈𝐄𝐅.</td>\n",
       "      <td>2.0</td>\n",
       "      <td>2022-08-27</td>\n",
       "      <td>1</td>\n",
       "    </tr>\n",
       "    <tr>\n",
       "      <th>...</th>\n",
       "      <td>...</td>\n",
       "      <td>...</td>\n",
       "      <td>...</td>\n",
       "      <td>...</td>\n",
       "      <td>...</td>\n",
       "      <td>...</td>\n",
       "      <td>...</td>\n",
       "      <td>...</td>\n",
       "      <td>...</td>\n",
       "      <td>...</td>\n",
       "    </tr>\n",
       "    <tr>\n",
       "      <th>478716</th>\n",
       "      <td>GusQdzkg1sI</td>\n",
       "      <td>2022-01-03</td>\n",
       "      <td>8580</td>\n",
       "      <td>29</td>\n",
       "      <td>9.0</td>\n",
       "      <td>Burt Lade</td>\n",
       "      <td>There is no such thing as \"free\" Covid tests. ...</td>\n",
       "      <td>0.0</td>\n",
       "      <td>2022-01-12</td>\n",
       "      <td>9</td>\n",
       "    </tr>\n",
       "    <tr>\n",
       "      <th>478717</th>\n",
       "      <td>GusQdzkg1sI</td>\n",
       "      <td>2022-01-03</td>\n",
       "      <td>8580</td>\n",
       "      <td>29</td>\n",
       "      <td>9.0</td>\n",
       "      <td>Edward Carberry</td>\n",
       "      <td>Why anyone would want to Damage their Blood Br...</td>\n",
       "      <td>0.0</td>\n",
       "      <td>2022-01-07</td>\n",
       "      <td>4</td>\n",
       "    </tr>\n",
       "    <tr>\n",
       "      <th>478718</th>\n",
       "      <td>GusQdzkg1sI</td>\n",
       "      <td>2022-01-03</td>\n",
       "      <td>8580</td>\n",
       "      <td>29</td>\n",
       "      <td>9.0</td>\n",
       "      <td>Rose Smith</td>\n",
       "      <td>Apparently in Florida the Governor has them no...</td>\n",
       "      <td>2.0</td>\n",
       "      <td>2022-01-07</td>\n",
       "      <td>4</td>\n",
       "    </tr>\n",
       "    <tr>\n",
       "      <th>478719</th>\n",
       "      <td>GusQdzkg1sI</td>\n",
       "      <td>2022-01-03</td>\n",
       "      <td>8580</td>\n",
       "      <td>29</td>\n",
       "      <td>9.0</td>\n",
       "      <td>Cometome 819</td>\n",
       "      <td>Thank you for posting great video.</td>\n",
       "      <td>1.0</td>\n",
       "      <td>2022-01-05</td>\n",
       "      <td>2</td>\n",
       "    </tr>\n",
       "    <tr>\n",
       "      <th>478720</th>\n",
       "      <td>GusQdzkg1sI</td>\n",
       "      <td>2022-01-03</td>\n",
       "      <td>8580</td>\n",
       "      <td>29</td>\n",
       "      <td>9.0</td>\n",
       "      <td>Tom Haggerty</td>\n",
       "      <td>Sorry, all sold out!</td>\n",
       "      <td>1.0</td>\n",
       "      <td>2022-01-03</td>\n",
       "      <td>0</td>\n",
       "    </tr>\n",
       "  </tbody>\n",
       "</table>\n",
       "<p>462320 rows × 10 columns</p>\n",
       "</div>"
      ],
      "text/plain": [
       "           video_id       Date  viewCount  likeCount  commentCount  \\\n",
       "0       w-NueyHZi0M 2022-08-26       5822        195         137.0   \n",
       "1       w-NueyHZi0M 2022-08-26       5822        195         137.0   \n",
       "2       w-NueyHZi0M 2022-08-26       5822        195         137.0   \n",
       "3       w-NueyHZi0M 2022-08-26       5822        195         137.0   \n",
       "4       w-NueyHZi0M 2022-08-26       5822        195         137.0   \n",
       "...             ...        ...        ...        ...           ...   \n",
       "478716  GusQdzkg1sI 2022-01-03       8580         29           9.0   \n",
       "478717  GusQdzkg1sI 2022-01-03       8580         29           9.0   \n",
       "478718  GusQdzkg1sI 2022-01-03       8580         29           9.0   \n",
       "478719  GusQdzkg1sI 2022-01-03       8580         29           9.0   \n",
       "478720  GusQdzkg1sI 2022-01-03       8580         29           9.0   \n",
       "\n",
       "            author_name                                      text_original  \\\n",
       "0                K Bear  FBI is going to have a bad day soon. Midterm h...   \n",
       "1            Greg Giles  The Documents are now witnesses, Hollywood cou...   \n",
       "2         Peter Gatliff  One story that may relavent to this story. Tru...   \n",
       "3            Erik Jehle                            Trump will be Indicted.   \n",
       "4             Suz Firth                             𝐓𝐫𝐮𝐦𝐩 𝐢𝐬 𝐚 𝐝𝐮𝐦𝐛 𝐓𝐇𝐈𝐄𝐅.   \n",
       "...                 ...                                                ...   \n",
       "478716        Burt Lade  There is no such thing as \"free\" Covid tests. ...   \n",
       "478717  Edward Carberry  Why anyone would want to Damage their Blood Br...   \n",
       "478718       Rose Smith  Apparently in Florida the Governor has them no...   \n",
       "478719     Cometome 819                 Thank you for posting great video.   \n",
       "478720     Tom Haggerty                               Sorry, all sold out!   \n",
       "\n",
       "        likes_count date_published  diffDays  \n",
       "0               0.0     2022-08-27         1  \n",
       "1               0.0     2022-08-27         1  \n",
       "2               0.0     2022-08-27         1  \n",
       "3               0.0     2022-08-27         1  \n",
       "4               2.0     2022-08-27         1  \n",
       "...             ...            ...       ...  \n",
       "478716          0.0     2022-01-12         9  \n",
       "478717          0.0     2022-01-07         4  \n",
       "478718          2.0     2022-01-07         4  \n",
       "478719          1.0     2022-01-05         2  \n",
       "478720          1.0     2022-01-03         0  \n",
       "\n",
       "[462320 rows x 10 columns]"
      ]
     },
     "metadata": {},
     "output_type": "display_data"
    }
   ],
   "source": [
    "df_comments_analysis = df_comments[[\"video_id\", \"author_name\",\"text_original\", \"likes_count\", \"date_published\"]]\n",
    "df_comments_analysis = (\n",
    "    df_videos[[\"video_id\", \"Date\", \"viewCount\",\"likeCount\",\"commentCount\"]]\n",
    "    .merge(\n",
    "        df_comments_analysis,\n",
    "        on=\"video_id\",\n",
    "        how=\"left\"\n",
    "    )\n",
    ")\n",
    "\n",
    "df_comments_analysis[[\"date_published\", \"Date\"]] = df_comments_analysis[[\"date_published\", \"Date\"]].apply(pd.to_datetime)\n",
    "\n",
    "df_comments_analysis= df_comments_analysis.dropna()\n",
    "\n",
    "df_comments_analysis[\"diffDays\"] = (df_comments_analysis[\"date_published\"] - df_comments_analysis[\"Date\"]).dt.days\n",
    "display(df_comments_analysis)"
   ]
  },
  {
   "cell_type": "code",
   "execution_count": 12,
   "metadata": {},
   "outputs": [
    {
     "data": {
      "application/vnd.plotly.v1+json": {
       "config": {
        "plotlyServerURL": "https://plot.ly"
       },
       "data": [
        {
         "type": "bar",
         "x": [
          0,
          1,
          2,
          3,
          4,
          5,
          6,
          7,
          8,
          9,
          10,
          11,
          12,
          13,
          14,
          15,
          16,
          17,
          18,
          19,
          20,
          21,
          22,
          23,
          24,
          25,
          26,
          27,
          28,
          29,
          30,
          31,
          32,
          33,
          34,
          35,
          36,
          37,
          38,
          39,
          40,
          41,
          42,
          43,
          44,
          45,
          46,
          47,
          48,
          49,
          50,
          51,
          52,
          53,
          54,
          55,
          56,
          57,
          58,
          59,
          60,
          61,
          62,
          63,
          64,
          65,
          66,
          67,
          68,
          69,
          70,
          71,
          72,
          73,
          74,
          75,
          76,
          77,
          78,
          79,
          80,
          81,
          82,
          83,
          84,
          85,
          86,
          87,
          88,
          89,
          90,
          91,
          92,
          93,
          94,
          95,
          96,
          97,
          98,
          99,
          100,
          101,
          102,
          103,
          104,
          105,
          106,
          108,
          109,
          110,
          111,
          112,
          113,
          114,
          115,
          116,
          117,
          118,
          119,
          120,
          121,
          122,
          123,
          124,
          125,
          126,
          127,
          128,
          129,
          130,
          131,
          132,
          133,
          134,
          135,
          136,
          137,
          138,
          139,
          140,
          141,
          142,
          143,
          144,
          145,
          146,
          147,
          148,
          149,
          150,
          151,
          152,
          153,
          154,
          155,
          156,
          157,
          158,
          159,
          160,
          161,
          162,
          163,
          164,
          165,
          166,
          167,
          168,
          169,
          170,
          171,
          172,
          173,
          174,
          175,
          176,
          177,
          178,
          179,
          180,
          181,
          182,
          183,
          184,
          186,
          187,
          188,
          189,
          190,
          191,
          192,
          193,
          195,
          196,
          197,
          199,
          201,
          202,
          206,
          207,
          209,
          210,
          212,
          213,
          214,
          215,
          216,
          217,
          218,
          219,
          220,
          221,
          222,
          223,
          224,
          226,
          228,
          229,
          230,
          231
         ],
         "y": [
          50760,
          93832,
          54035,
          35697,
          26199,
          20474,
          15749,
          13977,
          9760,
          7559,
          6798,
          4385,
          3711,
          3385,
          3142,
          4515,
          2706,
          3281,
          2263,
          3245,
          2949,
          1850,
          2198,
          2450,
          2250,
          1800,
          1200,
          2000,
          2100,
          1350,
          1350,
          1400,
          1450,
          1300,
          550,
          850,
          1100,
          1100,
          750,
          750,
          1000,
          900,
          1400,
          1300,
          850,
          1100,
          1000,
          1200,
          1100,
          650,
          800,
          1050,
          1450,
          1350,
          1550,
          1250,
          1150,
          900,
          800,
          600,
          750,
          450,
          550,
          200,
          700,
          500,
          650,
          450,
          450,
          250,
          550,
          350,
          500,
          250,
          200,
          450,
          400,
          450,
          200,
          300,
          600,
          400,
          750,
          450,
          150,
          450,
          800,
          450,
          400,
          600,
          500,
          450,
          300,
          400,
          150,
          400,
          200,
          350,
          250,
          500,
          350,
          400,
          250,
          300,
          250,
          150,
          250,
          100,
          300,
          100,
          350,
          400,
          550,
          200,
          500,
          400,
          200,
          350,
          550,
          400,
          500,
          150,
          350,
          300,
          350,
          500,
          200,
          300,
          250,
          250,
          200,
          350,
          450,
          450,
          450,
          400,
          650,
          400,
          400,
          300,
          400,
          200,
          100,
          250,
          300,
          200,
          350,
          150,
          150,
          200,
          100,
          200,
          350,
          200,
          100,
          150,
          250,
          250,
          150,
          100,
          350,
          200,
          150,
          200,
          100,
          300,
          300,
          250,
          200,
          550,
          200,
          300,
          200,
          150,
          300,
          250,
          350,
          100,
          150,
          100,
          100,
          100,
          100,
          150,
          50,
          50,
          200,
          300,
          300,
          200,
          50,
          50,
          300,
          200,
          250,
          100,
          100,
          50,
          50,
          50,
          50,
          100,
          100,
          150,
          200,
          100,
          250,
          250,
          50,
          50,
          150,
          100,
          50,
          250,
          150,
          150,
          50,
          100,
          50,
          50
         ]
        }
       ],
       "layout": {
        "template": {
         "data": {
          "bar": [
           {
            "error_x": {
             "color": "#2a3f5f"
            },
            "error_y": {
             "color": "#2a3f5f"
            },
            "marker": {
             "line": {
              "color": "#E5ECF6",
              "width": 0.5
             },
             "pattern": {
              "fillmode": "overlay",
              "size": 10,
              "solidity": 0.2
             }
            },
            "type": "bar"
           }
          ],
          "barpolar": [
           {
            "marker": {
             "line": {
              "color": "#E5ECF6",
              "width": 0.5
             },
             "pattern": {
              "fillmode": "overlay",
              "size": 10,
              "solidity": 0.2
             }
            },
            "type": "barpolar"
           }
          ],
          "carpet": [
           {
            "aaxis": {
             "endlinecolor": "#2a3f5f",
             "gridcolor": "white",
             "linecolor": "white",
             "minorgridcolor": "white",
             "startlinecolor": "#2a3f5f"
            },
            "baxis": {
             "endlinecolor": "#2a3f5f",
             "gridcolor": "white",
             "linecolor": "white",
             "minorgridcolor": "white",
             "startlinecolor": "#2a3f5f"
            },
            "type": "carpet"
           }
          ],
          "choropleth": [
           {
            "colorbar": {
             "outlinewidth": 0,
             "ticks": ""
            },
            "type": "choropleth"
           }
          ],
          "contour": [
           {
            "colorbar": {
             "outlinewidth": 0,
             "ticks": ""
            },
            "colorscale": [
             [
              0,
              "#0d0887"
             ],
             [
              0.1111111111111111,
              "#46039f"
             ],
             [
              0.2222222222222222,
              "#7201a8"
             ],
             [
              0.3333333333333333,
              "#9c179e"
             ],
             [
              0.4444444444444444,
              "#bd3786"
             ],
             [
              0.5555555555555556,
              "#d8576b"
             ],
             [
              0.6666666666666666,
              "#ed7953"
             ],
             [
              0.7777777777777778,
              "#fb9f3a"
             ],
             [
              0.8888888888888888,
              "#fdca26"
             ],
             [
              1,
              "#f0f921"
             ]
            ],
            "type": "contour"
           }
          ],
          "contourcarpet": [
           {
            "colorbar": {
             "outlinewidth": 0,
             "ticks": ""
            },
            "type": "contourcarpet"
           }
          ],
          "heatmap": [
           {
            "colorbar": {
             "outlinewidth": 0,
             "ticks": ""
            },
            "colorscale": [
             [
              0,
              "#0d0887"
             ],
             [
              0.1111111111111111,
              "#46039f"
             ],
             [
              0.2222222222222222,
              "#7201a8"
             ],
             [
              0.3333333333333333,
              "#9c179e"
             ],
             [
              0.4444444444444444,
              "#bd3786"
             ],
             [
              0.5555555555555556,
              "#d8576b"
             ],
             [
              0.6666666666666666,
              "#ed7953"
             ],
             [
              0.7777777777777778,
              "#fb9f3a"
             ],
             [
              0.8888888888888888,
              "#fdca26"
             ],
             [
              1,
              "#f0f921"
             ]
            ],
            "type": "heatmap"
           }
          ],
          "heatmapgl": [
           {
            "colorbar": {
             "outlinewidth": 0,
             "ticks": ""
            },
            "colorscale": [
             [
              0,
              "#0d0887"
             ],
             [
              0.1111111111111111,
              "#46039f"
             ],
             [
              0.2222222222222222,
              "#7201a8"
             ],
             [
              0.3333333333333333,
              "#9c179e"
             ],
             [
              0.4444444444444444,
              "#bd3786"
             ],
             [
              0.5555555555555556,
              "#d8576b"
             ],
             [
              0.6666666666666666,
              "#ed7953"
             ],
             [
              0.7777777777777778,
              "#fb9f3a"
             ],
             [
              0.8888888888888888,
              "#fdca26"
             ],
             [
              1,
              "#f0f921"
             ]
            ],
            "type": "heatmapgl"
           }
          ],
          "histogram": [
           {
            "marker": {
             "pattern": {
              "fillmode": "overlay",
              "size": 10,
              "solidity": 0.2
             }
            },
            "type": "histogram"
           }
          ],
          "histogram2d": [
           {
            "colorbar": {
             "outlinewidth": 0,
             "ticks": ""
            },
            "colorscale": [
             [
              0,
              "#0d0887"
             ],
             [
              0.1111111111111111,
              "#46039f"
             ],
             [
              0.2222222222222222,
              "#7201a8"
             ],
             [
              0.3333333333333333,
              "#9c179e"
             ],
             [
              0.4444444444444444,
              "#bd3786"
             ],
             [
              0.5555555555555556,
              "#d8576b"
             ],
             [
              0.6666666666666666,
              "#ed7953"
             ],
             [
              0.7777777777777778,
              "#fb9f3a"
             ],
             [
              0.8888888888888888,
              "#fdca26"
             ],
             [
              1,
              "#f0f921"
             ]
            ],
            "type": "histogram2d"
           }
          ],
          "histogram2dcontour": [
           {
            "colorbar": {
             "outlinewidth": 0,
             "ticks": ""
            },
            "colorscale": [
             [
              0,
              "#0d0887"
             ],
             [
              0.1111111111111111,
              "#46039f"
             ],
             [
              0.2222222222222222,
              "#7201a8"
             ],
             [
              0.3333333333333333,
              "#9c179e"
             ],
             [
              0.4444444444444444,
              "#bd3786"
             ],
             [
              0.5555555555555556,
              "#d8576b"
             ],
             [
              0.6666666666666666,
              "#ed7953"
             ],
             [
              0.7777777777777778,
              "#fb9f3a"
             ],
             [
              0.8888888888888888,
              "#fdca26"
             ],
             [
              1,
              "#f0f921"
             ]
            ],
            "type": "histogram2dcontour"
           }
          ],
          "mesh3d": [
           {
            "colorbar": {
             "outlinewidth": 0,
             "ticks": ""
            },
            "type": "mesh3d"
           }
          ],
          "parcoords": [
           {
            "line": {
             "colorbar": {
              "outlinewidth": 0,
              "ticks": ""
             }
            },
            "type": "parcoords"
           }
          ],
          "pie": [
           {
            "automargin": true,
            "type": "pie"
           }
          ],
          "scatter": [
           {
            "fillpattern": {
             "fillmode": "overlay",
             "size": 10,
             "solidity": 0.2
            },
            "type": "scatter"
           }
          ],
          "scatter3d": [
           {
            "line": {
             "colorbar": {
              "outlinewidth": 0,
              "ticks": ""
             }
            },
            "marker": {
             "colorbar": {
              "outlinewidth": 0,
              "ticks": ""
             }
            },
            "type": "scatter3d"
           }
          ],
          "scattercarpet": [
           {
            "marker": {
             "colorbar": {
              "outlinewidth": 0,
              "ticks": ""
             }
            },
            "type": "scattercarpet"
           }
          ],
          "scattergeo": [
           {
            "marker": {
             "colorbar": {
              "outlinewidth": 0,
              "ticks": ""
             }
            },
            "type": "scattergeo"
           }
          ],
          "scattergl": [
           {
            "marker": {
             "colorbar": {
              "outlinewidth": 0,
              "ticks": ""
             }
            },
            "type": "scattergl"
           }
          ],
          "scattermapbox": [
           {
            "marker": {
             "colorbar": {
              "outlinewidth": 0,
              "ticks": ""
             }
            },
            "type": "scattermapbox"
           }
          ],
          "scatterpolar": [
           {
            "marker": {
             "colorbar": {
              "outlinewidth": 0,
              "ticks": ""
             }
            },
            "type": "scatterpolar"
           }
          ],
          "scatterpolargl": [
           {
            "marker": {
             "colorbar": {
              "outlinewidth": 0,
              "ticks": ""
             }
            },
            "type": "scatterpolargl"
           }
          ],
          "scatterternary": [
           {
            "marker": {
             "colorbar": {
              "outlinewidth": 0,
              "ticks": ""
             }
            },
            "type": "scatterternary"
           }
          ],
          "surface": [
           {
            "colorbar": {
             "outlinewidth": 0,
             "ticks": ""
            },
            "colorscale": [
             [
              0,
              "#0d0887"
             ],
             [
              0.1111111111111111,
              "#46039f"
             ],
             [
              0.2222222222222222,
              "#7201a8"
             ],
             [
              0.3333333333333333,
              "#9c179e"
             ],
             [
              0.4444444444444444,
              "#bd3786"
             ],
             [
              0.5555555555555556,
              "#d8576b"
             ],
             [
              0.6666666666666666,
              "#ed7953"
             ],
             [
              0.7777777777777778,
              "#fb9f3a"
             ],
             [
              0.8888888888888888,
              "#fdca26"
             ],
             [
              1,
              "#f0f921"
             ]
            ],
            "type": "surface"
           }
          ],
          "table": [
           {
            "cells": {
             "fill": {
              "color": "#EBF0F8"
             },
             "line": {
              "color": "white"
             }
            },
            "header": {
             "fill": {
              "color": "#C8D4E3"
             },
             "line": {
              "color": "white"
             }
            },
            "type": "table"
           }
          ]
         },
         "layout": {
          "annotationdefaults": {
           "arrowcolor": "#2a3f5f",
           "arrowhead": 0,
           "arrowwidth": 1
          },
          "autotypenumbers": "strict",
          "coloraxis": {
           "colorbar": {
            "outlinewidth": 0,
            "ticks": ""
           }
          },
          "colorscale": {
           "diverging": [
            [
             0,
             "#8e0152"
            ],
            [
             0.1,
             "#c51b7d"
            ],
            [
             0.2,
             "#de77ae"
            ],
            [
             0.3,
             "#f1b6da"
            ],
            [
             0.4,
             "#fde0ef"
            ],
            [
             0.5,
             "#f7f7f7"
            ],
            [
             0.6,
             "#e6f5d0"
            ],
            [
             0.7,
             "#b8e186"
            ],
            [
             0.8,
             "#7fbc41"
            ],
            [
             0.9,
             "#4d9221"
            ],
            [
             1,
             "#276419"
            ]
           ],
           "sequential": [
            [
             0,
             "#0d0887"
            ],
            [
             0.1111111111111111,
             "#46039f"
            ],
            [
             0.2222222222222222,
             "#7201a8"
            ],
            [
             0.3333333333333333,
             "#9c179e"
            ],
            [
             0.4444444444444444,
             "#bd3786"
            ],
            [
             0.5555555555555556,
             "#d8576b"
            ],
            [
             0.6666666666666666,
             "#ed7953"
            ],
            [
             0.7777777777777778,
             "#fb9f3a"
            ],
            [
             0.8888888888888888,
             "#fdca26"
            ],
            [
             1,
             "#f0f921"
            ]
           ],
           "sequentialminus": [
            [
             0,
             "#0d0887"
            ],
            [
             0.1111111111111111,
             "#46039f"
            ],
            [
             0.2222222222222222,
             "#7201a8"
            ],
            [
             0.3333333333333333,
             "#9c179e"
            ],
            [
             0.4444444444444444,
             "#bd3786"
            ],
            [
             0.5555555555555556,
             "#d8576b"
            ],
            [
             0.6666666666666666,
             "#ed7953"
            ],
            [
             0.7777777777777778,
             "#fb9f3a"
            ],
            [
             0.8888888888888888,
             "#fdca26"
            ],
            [
             1,
             "#f0f921"
            ]
           ]
          },
          "colorway": [
           "#636efa",
           "#EF553B",
           "#00cc96",
           "#ab63fa",
           "#FFA15A",
           "#19d3f3",
           "#FF6692",
           "#B6E880",
           "#FF97FF",
           "#FECB52"
          ],
          "font": {
           "color": "#2a3f5f"
          },
          "geo": {
           "bgcolor": "white",
           "lakecolor": "white",
           "landcolor": "#E5ECF6",
           "showlakes": true,
           "showland": true,
           "subunitcolor": "white"
          },
          "hoverlabel": {
           "align": "left"
          },
          "hovermode": "closest",
          "mapbox": {
           "style": "light"
          },
          "paper_bgcolor": "white",
          "plot_bgcolor": "#E5ECF6",
          "polar": {
           "angularaxis": {
            "gridcolor": "white",
            "linecolor": "white",
            "ticks": ""
           },
           "bgcolor": "#E5ECF6",
           "radialaxis": {
            "gridcolor": "white",
            "linecolor": "white",
            "ticks": ""
           }
          },
          "scene": {
           "xaxis": {
            "backgroundcolor": "#E5ECF6",
            "gridcolor": "white",
            "gridwidth": 2,
            "linecolor": "white",
            "showbackground": true,
            "ticks": "",
            "zerolinecolor": "white"
           },
           "yaxis": {
            "backgroundcolor": "#E5ECF6",
            "gridcolor": "white",
            "gridwidth": 2,
            "linecolor": "white",
            "showbackground": true,
            "ticks": "",
            "zerolinecolor": "white"
           },
           "zaxis": {
            "backgroundcolor": "#E5ECF6",
            "gridcolor": "white",
            "gridwidth": 2,
            "linecolor": "white",
            "showbackground": true,
            "ticks": "",
            "zerolinecolor": "white"
           }
          },
          "shapedefaults": {
           "line": {
            "color": "#2a3f5f"
           }
          },
          "ternary": {
           "aaxis": {
            "gridcolor": "white",
            "linecolor": "white",
            "ticks": ""
           },
           "baxis": {
            "gridcolor": "white",
            "linecolor": "white",
            "ticks": ""
           },
           "bgcolor": "#E5ECF6",
           "caxis": {
            "gridcolor": "white",
            "linecolor": "white",
            "ticks": ""
           }
          },
          "title": {
           "x": 0.05
          },
          "xaxis": {
           "automargin": true,
           "gridcolor": "white",
           "linecolor": "white",
           "ticks": "",
           "title": {
            "standoff": 15
           },
           "zerolinecolor": "white",
           "zerolinewidth": 2
          },
          "yaxis": {
           "automargin": true,
           "gridcolor": "white",
           "linecolor": "white",
           "ticks": "",
           "title": {
            "standoff": 15
           },
           "zerolinecolor": "white",
           "zerolinewidth": 2
          }
         }
        }
       }
      }
     },
     "metadata": {},
     "output_type": "display_data"
    }
   ],
   "source": [
    "df_comments_analysis_days = (df_comments_analysis.groupby([\"diffDays\"], as_index=False)\n",
    "    .agg(likes_sum = pd.NamedAgg(column='likes_count', aggfunc='sum'),\n",
    "    comments_count = pd.NamedAgg(column='text_original', aggfunc='count')\n",
    "    )\n",
    ")\n",
    "\n",
    "fig = go.Figure()\n",
    "fig.add_trace(go.Bar(x=df_comments_analysis_days[\"diffDays\"], y=df_comments_analysis_days[\"comments_count\"]))\n",
    "fig.show()"
   ]
  },
  {
   "cell_type": "code",
   "execution_count": 13,
   "metadata": {},
   "outputs": [
    {
     "data": {
      "text/html": [
       "<div>\n",
       "<style scoped>\n",
       "    .dataframe tbody tr th:only-of-type {\n",
       "        vertical-align: middle;\n",
       "    }\n",
       "\n",
       "    .dataframe tbody tr th {\n",
       "        vertical-align: top;\n",
       "    }\n",
       "\n",
       "    .dataframe thead th {\n",
       "        text-align: right;\n",
       "    }\n",
       "</style>\n",
       "<table border=\"1\" class=\"dataframe\">\n",
       "  <thead>\n",
       "    <tr style=\"text-align: right;\">\n",
       "      <th></th>\n",
       "      <th>Unnamed: 0</th>\n",
       "      <th>video_id</th>\n",
       "      <th>channeltitle</th>\n",
       "      <th>title</th>\n",
       "      <th>description</th>\n",
       "      <th>tags</th>\n",
       "      <th>publishedAt</th>\n",
       "      <th>viewCount</th>\n",
       "      <th>likeCount</th>\n",
       "      <th>favouriteCount</th>\n",
       "      <th>commentCount</th>\n",
       "      <th>duration</th>\n",
       "      <th>Date</th>\n",
       "    </tr>\n",
       "  </thead>\n",
       "  <tbody>\n",
       "    <tr>\n",
       "      <th>0</th>\n",
       "      <td>0</td>\n",
       "      <td>w-NueyHZi0M</td>\n",
       "      <td>Washington Post</td>\n",
       "      <td>You don’t need to be a spy to break the Espion...</td>\n",
       "      <td>The warrant authorizing the search of former p...</td>\n",
       "      <td>['1917 espionage act', '1918 sedition act', 'N...</td>\n",
       "      <td>2022-08-26T20:35:05Z</td>\n",
       "      <td>5822</td>\n",
       "      <td>195</td>\n",
       "      <td>NaN</td>\n",
       "      <td>137.0</td>\n",
       "      <td>P</td>\n",
       "      <td>2022-08-26</td>\n",
       "    </tr>\n",
       "    <tr>\n",
       "      <th>1</th>\n",
       "      <td>1</td>\n",
       "      <td>Q8dH8f6svEA</td>\n",
       "      <td>Washington Post</td>\n",
       "      <td>WATCH: White House holds news conference</td>\n",
       "      <td>White House press secretary Karine Jean-Pierre...</td>\n",
       "      <td>['breaking news', 'breaking news video', 'joe ...</td>\n",
       "      <td>2022-08-26T18:31:57Z</td>\n",
       "      <td>13707</td>\n",
       "      <td>260</td>\n",
       "      <td>NaN</td>\n",
       "      <td>38.0</td>\n",
       "      <td>P</td>\n",
       "      <td>2022-08-26</td>\n",
       "    </tr>\n",
       "    <tr>\n",
       "      <th>2</th>\n",
       "      <td>2</td>\n",
       "      <td>mXXsWBvEJLQ</td>\n",
       "      <td>Washington Post</td>\n",
       "      <td>Jerome Powell: Fighting inflation will cause ‘...</td>\n",
       "      <td>Federal Reserve Chair Jerome H. Powell deliver...</td>\n",
       "      <td>['breaking news', 'breaking news video', 'live...</td>\n",
       "      <td>2022-08-26T14:13:41Z</td>\n",
       "      <td>11365</td>\n",
       "      <td>173</td>\n",
       "      <td>NaN</td>\n",
       "      <td>48.0</td>\n",
       "      <td>P</td>\n",
       "      <td>2022-08-26</td>\n",
       "    </tr>\n",
       "    <tr>\n",
       "      <th>3</th>\n",
       "      <td>3</td>\n",
       "      <td>OTRYIcD4738</td>\n",
       "      <td>Washington Post</td>\n",
       "      <td>Why Biden acted on student loans</td>\n",
       "      <td>President Biden has drawn the ire of activists...</td>\n",
       "      <td>['News', 'The Washington Post', 'WaPo Video', ...</td>\n",
       "      <td>2022-08-26T14:11:27Z</td>\n",
       "      <td>52398</td>\n",
       "      <td>397</td>\n",
       "      <td>NaN</td>\n",
       "      <td>1534.0</td>\n",
       "      <td>P</td>\n",
       "      <td>2022-08-26</td>\n",
       "    </tr>\n",
       "    <tr>\n",
       "      <th>4</th>\n",
       "      <td>4</td>\n",
       "      <td>ktClzhOodkA</td>\n",
       "      <td>Washington Post</td>\n",
       "      <td>Democrats keep refusing to back a Biden 2024 run</td>\n",
       "      <td>More than a dozen congressional Democrats have...</td>\n",
       "      <td>['2022', '2022 midterm elections', '2022 midte...</td>\n",
       "      <td>2022-08-25T21:25:27Z</td>\n",
       "      <td>6588</td>\n",
       "      <td>71</td>\n",
       "      <td>NaN</td>\n",
       "      <td>85.0</td>\n",
       "      <td>P</td>\n",
       "      <td>2022-08-25</td>\n",
       "    </tr>\n",
       "    <tr>\n",
       "      <th>...</th>\n",
       "      <td>...</td>\n",
       "      <td>...</td>\n",
       "      <td>...</td>\n",
       "      <td>...</td>\n",
       "      <td>...</td>\n",
       "      <td>...</td>\n",
       "      <td>...</td>\n",
       "      <td>...</td>\n",
       "      <td>...</td>\n",
       "      <td>...</td>\n",
       "      <td>...</td>\n",
       "      <td>...</td>\n",
       "      <td>...</td>\n",
       "    </tr>\n",
       "    <tr>\n",
       "      <th>40370</th>\n",
       "      <td>40370</td>\n",
       "      <td>GusQdzkg1sI</td>\n",
       "      <td>Washington Post</td>\n",
       "      <td>Rapid covid tests: How they work and where to ...</td>\n",
       "      <td>Here’s what you need to know about these at-ho...</td>\n",
       "      <td>['News', 'The Washington Post', 'WaPo Video', ...</td>\n",
       "      <td>2022-01-03T17:04:43Z</td>\n",
       "      <td>8580</td>\n",
       "      <td>29</td>\n",
       "      <td>NaN</td>\n",
       "      <td>9.0</td>\n",
       "      <td>P</td>\n",
       "      <td>2022-01-03</td>\n",
       "    </tr>\n",
       "    <tr>\n",
       "      <th>40371</th>\n",
       "      <td>40371</td>\n",
       "      <td>ogvnEoRbJro</td>\n",
       "      <td>Washington Post</td>\n",
       "      <td>Colorado governor holds a news conference abou...</td>\n",
       "      <td>Colorado governor Jared Polis (D), and Boulder...</td>\n",
       "      <td>['breaking news', 'breaking news video', 'clim...</td>\n",
       "      <td>2021-12-31T17:50:10Z</td>\n",
       "      <td>36803</td>\n",
       "      <td>218</td>\n",
       "      <td>NaN</td>\n",
       "      <td>NaN</td>\n",
       "      <td>P</td>\n",
       "      <td>2021-12-31</td>\n",
       "    </tr>\n",
       "    <tr>\n",
       "      <th>40372</th>\n",
       "      <td>40372</td>\n",
       "      <td>GusQdzkg1sI</td>\n",
       "      <td>Washington Post</td>\n",
       "      <td>Rapid covid tests: How they work and where to ...</td>\n",
       "      <td>Here’s what you need to know about these at-ho...</td>\n",
       "      <td>['News', 'The Washington Post', 'WaPo Video', ...</td>\n",
       "      <td>2022-01-03T17:04:43Z</td>\n",
       "      <td>8580</td>\n",
       "      <td>29</td>\n",
       "      <td>NaN</td>\n",
       "      <td>9.0</td>\n",
       "      <td>P</td>\n",
       "      <td>2022-01-03</td>\n",
       "    </tr>\n",
       "    <tr>\n",
       "      <th>40373</th>\n",
       "      <td>40373</td>\n",
       "      <td>ogvnEoRbJro</td>\n",
       "      <td>Washington Post</td>\n",
       "      <td>Colorado governor holds a news conference abou...</td>\n",
       "      <td>Colorado governor Jared Polis (D), and Boulder...</td>\n",
       "      <td>['breaking news', 'breaking news video', 'clim...</td>\n",
       "      <td>2021-12-31T17:50:10Z</td>\n",
       "      <td>36803</td>\n",
       "      <td>218</td>\n",
       "      <td>NaN</td>\n",
       "      <td>NaN</td>\n",
       "      <td>P</td>\n",
       "      <td>2021-12-31</td>\n",
       "    </tr>\n",
       "    <tr>\n",
       "      <th>40374</th>\n",
       "      <td>40374</td>\n",
       "      <td>ogvnEoRbJro</td>\n",
       "      <td>Washington Post</td>\n",
       "      <td>Colorado governor holds a news conference abou...</td>\n",
       "      <td>Colorado governor Jared Polis (D), and Boulder...</td>\n",
       "      <td>['breaking news', 'breaking news video', 'clim...</td>\n",
       "      <td>2021-12-31T17:50:10Z</td>\n",
       "      <td>36803</td>\n",
       "      <td>218</td>\n",
       "      <td>NaN</td>\n",
       "      <td>NaN</td>\n",
       "      <td>P</td>\n",
       "      <td>2021-12-31</td>\n",
       "    </tr>\n",
       "  </tbody>\n",
       "</table>\n",
       "<p>40375 rows × 13 columns</p>\n",
       "</div>"
      ],
      "text/plain": [
       "       Unnamed: 0     video_id     channeltitle  \\\n",
       "0               0  w-NueyHZi0M  Washington Post   \n",
       "1               1  Q8dH8f6svEA  Washington Post   \n",
       "2               2  mXXsWBvEJLQ  Washington Post   \n",
       "3               3  OTRYIcD4738  Washington Post   \n",
       "4               4  ktClzhOodkA  Washington Post   \n",
       "...           ...          ...              ...   \n",
       "40370       40370  GusQdzkg1sI  Washington Post   \n",
       "40371       40371  ogvnEoRbJro  Washington Post   \n",
       "40372       40372  GusQdzkg1sI  Washington Post   \n",
       "40373       40373  ogvnEoRbJro  Washington Post   \n",
       "40374       40374  ogvnEoRbJro  Washington Post   \n",
       "\n",
       "                                                   title  \\\n",
       "0      You don’t need to be a spy to break the Espion...   \n",
       "1               WATCH: White House holds news conference   \n",
       "2      Jerome Powell: Fighting inflation will cause ‘...   \n",
       "3                       Why Biden acted on student loans   \n",
       "4       Democrats keep refusing to back a Biden 2024 run   \n",
       "...                                                  ...   \n",
       "40370  Rapid covid tests: How they work and where to ...   \n",
       "40371  Colorado governor holds a news conference abou...   \n",
       "40372  Rapid covid tests: How they work and where to ...   \n",
       "40373  Colorado governor holds a news conference abou...   \n",
       "40374  Colorado governor holds a news conference abou...   \n",
       "\n",
       "                                             description  \\\n",
       "0      The warrant authorizing the search of former p...   \n",
       "1      White House press secretary Karine Jean-Pierre...   \n",
       "2      Federal Reserve Chair Jerome H. Powell deliver...   \n",
       "3      President Biden has drawn the ire of activists...   \n",
       "4      More than a dozen congressional Democrats have...   \n",
       "...                                                  ...   \n",
       "40370  Here’s what you need to know about these at-ho...   \n",
       "40371  Colorado governor Jared Polis (D), and Boulder...   \n",
       "40372  Here’s what you need to know about these at-ho...   \n",
       "40373  Colorado governor Jared Polis (D), and Boulder...   \n",
       "40374  Colorado governor Jared Polis (D), and Boulder...   \n",
       "\n",
       "                                                    tags  \\\n",
       "0      ['1917 espionage act', '1918 sedition act', 'N...   \n",
       "1      ['breaking news', 'breaking news video', 'joe ...   \n",
       "2      ['breaking news', 'breaking news video', 'live...   \n",
       "3      ['News', 'The Washington Post', 'WaPo Video', ...   \n",
       "4      ['2022', '2022 midterm elections', '2022 midte...   \n",
       "...                                                  ...   \n",
       "40370  ['News', 'The Washington Post', 'WaPo Video', ...   \n",
       "40371  ['breaking news', 'breaking news video', 'clim...   \n",
       "40372  ['News', 'The Washington Post', 'WaPo Video', ...   \n",
       "40373  ['breaking news', 'breaking news video', 'clim...   \n",
       "40374  ['breaking news', 'breaking news video', 'clim...   \n",
       "\n",
       "                publishedAt  viewCount  likeCount  favouriteCount  \\\n",
       "0      2022-08-26T20:35:05Z       5822        195             NaN   \n",
       "1      2022-08-26T18:31:57Z      13707        260             NaN   \n",
       "2      2022-08-26T14:13:41Z      11365        173             NaN   \n",
       "3      2022-08-26T14:11:27Z      52398        397             NaN   \n",
       "4      2022-08-25T21:25:27Z       6588         71             NaN   \n",
       "...                     ...        ...        ...             ...   \n",
       "40370  2022-01-03T17:04:43Z       8580         29             NaN   \n",
       "40371  2021-12-31T17:50:10Z      36803        218             NaN   \n",
       "40372  2022-01-03T17:04:43Z       8580         29             NaN   \n",
       "40373  2021-12-31T17:50:10Z      36803        218             NaN   \n",
       "40374  2021-12-31T17:50:10Z      36803        218             NaN   \n",
       "\n",
       "       commentCount duration        Date  \n",
       "0             137.0        P  2022-08-26  \n",
       "1              38.0        P  2022-08-26  \n",
       "2              48.0        P  2022-08-26  \n",
       "3            1534.0        P  2022-08-26  \n",
       "4              85.0        P  2022-08-25  \n",
       "...             ...      ...         ...  \n",
       "40370           9.0        P  2022-01-03  \n",
       "40371           NaN        P  2021-12-31  \n",
       "40372           9.0        P  2022-01-03  \n",
       "40373           NaN        P  2021-12-31  \n",
       "40374           NaN        P  2021-12-31  \n",
       "\n",
       "[40375 rows x 13 columns]"
      ]
     },
     "execution_count": 13,
     "metadata": {},
     "output_type": "execute_result"
    }
   ],
   "source": [
    "df_videos"
   ]
  },
  {
   "cell_type": "code",
   "execution_count": null,
   "metadata": {},
   "outputs": [],
   "source": []
  }
 ],
 "metadata": {
  "kernelspec": {
   "display_name": "Python 3.10.6 ('.env': venv)",
   "language": "python",
   "name": "python3"
  },
  "language_info": {
   "codemirror_mode": {
    "name": "ipython",
    "version": 3
   },
   "file_extension": ".py",
   "mimetype": "text/x-python",
   "name": "python",
   "nbconvert_exporter": "python",
   "pygments_lexer": "ipython3",
   "version": "3.10.6"
  },
  "vscode": {
   "interpreter": {
    "hash": "f1cbc4bc2cb2f84e1561c66ade6c5819f38a88dcb1bb01c0e10107a42dfff19b"
   }
  }
 },
 "nbformat": 4,
 "nbformat_minor": 4
}
